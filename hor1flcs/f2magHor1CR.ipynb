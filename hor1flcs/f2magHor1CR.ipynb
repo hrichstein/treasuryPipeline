{
 "cells": [
  {
   "cell_type": "code",
   "execution_count": 1,
   "metadata": {},
   "outputs": [],
   "source": [
    "import numpy as np"
   ]
  },
  {
   "cell_type": "code",
   "execution_count": 2,
   "metadata": {},
   "outputs": [],
   "source": [
    "workdir = \"/Volumes/Spare Data/Hannah_Data/\"\n",
    "inner_work = 'hor1flcs/'\n",
    "seFD = \"seFLCs/\"\n",
    "extF = \"sortedFLCs.dat\"\n",
    "saveDir = \"catRawMags1703/\""
   ]
  },
  {
   "cell_type": "code",
   "execution_count": 3,
   "metadata": {},
   "outputs": [],
   "source": [
    "EEVband = 0.795 #3 pix rad\n",
    "EEIband  = 0.770 #3 pix rad\n",
    "# EEVband = 0.656 # 2 pix rad\n",
    "# EEIband = 0.603 # 2 pix rad\n",
    "# EEVband = 0.313 # 1 pix rad\n",
    "# EEIband = 0.293 # 1 pix rad\n",
    "\n",
    "ZPV = 26.667\n",
    "ZPI = 26.779"
   ]
  },
  {
   "cell_type": "code",
   "execution_count": 5,
   "metadata": {},
   "outputs": [],
   "source": [
    "# targnamesList = np.loadtxt(\"targnamesDirections.txt\",dtype=str)\n",
    "filterList = [\"F606W\",\"F814W\"]"
   ]
  },
  {
   "cell_type": "code",
   "execution_count": 6,
   "metadata": {},
   "outputs": [],
   "source": [
    "def getJdan(targname,filt):\n",
    "\n",
    "    jdanList_file = np.loadtxt(workdir+targname+\"_flcs.txt\",dtype=\"<U50\")\n",
    "\n",
    "    jdan = jdanList_file[:,0]\n",
    "    jdanFilter = jdanList_file[:,1]\n",
    "\n",
    "    jdanUse = []\n",
    "    for jj in range(len(jdan)):\n",
    "        if jdanFilter[jj]==filt:\n",
    "            jdanUse.append(jdan[jj])\n",
    "\n",
    "    jdanUse = np.array(jdanUse)\n",
    "\n",
    "    return jdanUse"
   ]
  },
  {
   "cell_type": "code",
   "execution_count": 12,
   "metadata": {},
   "outputs": [],
   "source": [
    "def get_mags(targname,filt):\n",
    "    jdanUse = getJdan(targname,filt)\n",
    "\n",
    "    for ff in range(len(jdanUse)):\n",
    "        #Load sextractor file catalog\n",
    "        sex_f = workdir+inner_work+seFD+\"se_\"+jdanUse[ff]+'_'+targname+'_'+filt+'.dat'\n",
    "        \n",
    "        # x,y,flux,class_star\n",
    "        cat = np.loadtxt(sex_f,comments='#',dtype=None,usecols=(3,4,5,14))\n",
    "        flux = cat[:,2]\n",
    "        exptime = get_expt(jdanUse[ff])\n",
    "        \n",
    "        newCol = np.zeros((len(cat),2))\n",
    "        \n",
    "        newCol[:,0] = flux2mag(flux,filt,exptime)\n",
    "        newCol[:,1] = np.arange(0,len(cat),1,dtype=int)\n",
    "        \n",
    "        cat = np.hstack((cat,newCol))\n",
    "        \n",
    "        header = \"xr yr flux c_star magr id\"\n",
    "        \n",
    "        np.savetxt(workdir+inner_work+saveDir+jdanUse[ff]+'_'+targname+'_'+filt+'_'+'wMag.dat',\n",
    "                  cat,fmt=\"%1.5f %1.5f %1.5f %1.4f %1.5f %d\",header=header)\n",
    "        \n",
    "    return None"
   ]
  },
  {
   "cell_type": "code",
   "execution_count": 8,
   "metadata": {},
   "outputs": [],
   "source": [
    "def get_expt(jdan):\n",
    "    file = np.loadtxt(workdir+extF,usecols=(0,4),\n",
    "                         comments='#',dtype=str)\n",
    "    targname = jdan+'_WJC.fits'\n",
    "    exptime = file[:,1][file[:,0]==targname]\n",
    "#     exptime = file['EXPTIME'][file['flcName']==targname]\n",
    "    \n",
    "    return float(exptime)"
   ]
  },
  {
   "cell_type": "code",
   "execution_count": 9,
   "metadata": {},
   "outputs": [],
   "source": [
    "def flux2mag(flux_arr,filt,exptime):\n",
    "    if filt=='F606W':\n",
    "        EE = EEVband\n",
    "        ZP = ZPV\n",
    "    else:\n",
    "        EE = EEIband\n",
    "        ZP = ZPI\n",
    "        \n",
    "    mags = -2.5*np.log10(flux_arr/EE) + 2.5*np.log10(exptime) + ZP\n",
    "    \n",
    "    return mags"
   ]
  },
  {
   "cell_type": "code",
   "execution_count": 13,
   "metadata": {},
   "outputs": [
    {
     "name": "stderr",
     "output_type": "stream",
     "text": [
      "/Users/hr8jz/anaconda3/lib/python3.7/site-packages/ipykernel_launcher.py:9: RuntimeWarning: invalid value encountered in log10\n",
      "  if __name__ == '__main__':\n"
     ]
    }
   ],
   "source": [
    "targname = 'HOROLOGIUM-I'\n",
    "for ff in range(len(filterList)):\n",
    "    get_mags(targname,filterList[ff])"
   ]
  },
  {
   "cell_type": "code",
   "execution_count": null,
   "metadata": {},
   "outputs": [],
   "source": []
  }
 ],
 "metadata": {
  "kernelspec": {
   "display_name": "Python 3",
   "language": "python",
   "name": "python3"
  },
  "language_info": {
   "codemirror_mode": {
    "name": "ipython",
    "version": 3
   },
   "file_extension": ".py",
   "mimetype": "text/x-python",
   "name": "python",
   "nbconvert_exporter": "python",
   "pygments_lexer": "ipython3",
   "version": "3.7.6"
  }
 },
 "nbformat": 4,
 "nbformat_minor": 2
}
