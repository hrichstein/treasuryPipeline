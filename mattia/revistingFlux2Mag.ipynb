{
 "cells": [
  {
   "cell_type": "code",
   "execution_count": 1,
   "metadata": {},
   "outputs": [],
   "source": [
    "import numpy as np"
   ]
  },
  {
   "cell_type": "code",
   "execution_count": 2,
   "metadata": {},
   "outputs": [],
   "source": [
    "workdir = \"/Volumes/Spare Data/Hannah_Data/\"\n",
    "seFD = \"sFLCf2312/\"\n",
    "# extF = \"sortedFLCs.dat\"\n",
    "# saveDir = \"catRawMags2312/\"\n",
    "targnamesList = ['HOROLOGIUM-I']\n",
    "filterList = [\"F606W\",\"F814W\"]"
   ]
  },
  {
   "cell_type": "code",
   "execution_count": 3,
   "metadata": {},
   "outputs": [],
   "source": [
    "def getJdan(targname,filt):\n",
    "\n",
    "    jdanList_file = np.loadtxt(workdir+targname+\"_flcs.txt\",dtype=\"<U50\")\n",
    "\n",
    "    jdan = jdanList_file[:,0]\n",
    "    jdanFilter = jdanList_file[:,1]\n",
    "\n",
    "    jdanUse = []\n",
    "    for jj in range(len(jdan)):\n",
    "        if jdanFilter[jj]==filt:\n",
    "            jdanUse.append(jdan[jj])\n",
    "\n",
    "    jdanUse = np.array(jdanUse)\n",
    "\n",
    "    return jdanUse"
   ]
  },
  {
   "cell_type": "code",
   "execution_count": 8,
   "metadata": {},
   "outputs": [],
   "source": [
    "targname='HOROLOGIUM-I'\n",
    "filt='F606W'\n",
    "jdanUse = getJdan(targname,filt)\n",
    "\n",
    "sex_f = workdir+seFD+\"se_\"+jdanUse[0]+'_'+targname+'_'+filt+'.dat'\n",
    "cat = np.loadtxt(sex_f,comments='#',dtype=None,usecols=(3,4,5,14))\n",
    "flux = cat[:,2]"
   ]
  },
  {
   "cell_type": "code",
   "execution_count": 11,
   "metadata": {},
   "outputs": [
    {
     "name": "stderr",
     "output_type": "stream",
     "text": [
      "/Users/hr8jz/anaconda3/lib/python3.7/site-packages/ipykernel_launcher.py:4: RuntimeWarning: invalid value encountered in log10\n",
      "  after removing the cwd from sys.path.\n"
     ]
    }
   ],
   "source": [
    "EEVband = 0.795 #3 pix rad\n",
    "EEIband  = 0.770 #3 pix rad\n",
    "EE = EEVband\n",
    "mags= -2.5*np.log10(flux/EE)"
   ]
  },
  {
   "cell_type": "code",
   "execution_count": 13,
   "metadata": {},
   "outputs": [
    {
     "data": {
      "text/plain": [
       "-13.499705975956246"
      ]
     },
     "execution_count": 13,
     "metadata": {},
     "output_type": "execute_result"
    }
   ],
   "source": [
    "min(mags)"
   ]
  },
  {
   "cell_type": "code",
   "execution_count": null,
   "metadata": {},
   "outputs": [],
   "source": [
    "# mc = mr + zp_drc + aperture_corr + zp_stmag"
   ]
  }
 ],
 "metadata": {
  "kernelspec": {
   "display_name": "Python 3",
   "language": "python",
   "name": "python3"
  },
  "language_info": {
   "codemirror_mode": {
    "name": "ipython",
    "version": 3
   },
   "file_extension": ".py",
   "mimetype": "text/x-python",
   "name": "python",
   "nbconvert_exporter": "python",
   "pygments_lexer": "ipython3",
   "version": "3.7.1"
  }
 },
 "nbformat": 4,
 "nbformat_minor": 2
}
