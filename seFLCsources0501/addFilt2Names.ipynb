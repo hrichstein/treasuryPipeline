{
 "cells": [
  {
   "cell_type": "code",
   "execution_count": 1,
   "metadata": {},
   "outputs": [],
   "source": [
    "import numpy as np\n",
    "import os"
   ]
  },
  {
   "cell_type": "code",
   "execution_count": 2,
   "metadata": {},
   "outputs": [],
   "source": [
    "#generate a list of commands to move a file under one name to one with a filter at the end"
   ]
  },
  {
   "cell_type": "code",
   "execution_count": 3,
   "metadata": {},
   "outputs": [],
   "source": [
    "dir_string = './'\n",
    "direct = os.fsencode(dir_string)\n",
    "\n",
    "sortFile = np.loadtxt('../sortedFLCs.dat',dtype='<U50')\n",
    "names = sortFile[:,0]\n",
    "filter1 = sortFile[:,2]\n",
    "filter2 = sortFile[:,3]\n",
    "objname = sortFile[:,1]\n",
    "\n",
    "fin_filt = [[] for xx in range(len(filter1))]\n",
    "name_str = [[] for yy in range(len(filter1))]\n",
    "for jj in range(len(filter1)):\n",
    "    if (filter1[jj]=='F606W') or (filter1[jj]=='F814W'):\n",
    "        fin_filt[jj]=filter1[jj]\n",
    "    else:\n",
    "        fin_filt[jj]=filter2[jj]\n",
    "    name_str[jj] = names[jj].replace('_WJC.fits','')\n",
    "\n",
    "for yy in range(len(names)):\n",
    "    com = ['mv se_',name_str[yy],'_',objname[yy],'.dat ','../sFLCf0501/se_',\n",
    "          name_str[yy],'_',objname[yy],'_',fin_filt[yy],'.dat']\n",
    "    s0=''\n",
    "    com = s0.join(com)\n",
    "#     print(com)\n",
    "    os.system(com)\n",
    "    \n",
    "# for file in os.listdir(direct):\n",
    "#     filename = os.fsdecode(file)\n",
    "#     if filename.endswith('.dat'):\n",
    "#         jdan_str = filename.replace('se_','')\n",
    "#         jdan_str_9 = jdan_str[:9]\n",
    "#         print(jdan_str_9)\n",
    "        \n"
   ]
  },
  {
   "cell_type": "code",
   "execution_count": 4,
   "metadata": {},
   "outputs": [],
   "source": [
    "# print(fin_filt)"
   ]
  }
 ],
 "metadata": {
  "kernelspec": {
   "display_name": "Python 3",
   "language": "python",
   "name": "python3"
  },
  "language_info": {
   "codemirror_mode": {
    "name": "ipython",
    "version": 3
   },
   "file_extension": ".py",
   "mimetype": "text/x-python",
   "name": "python",
   "nbconvert_exporter": "python",
   "pygments_lexer": "ipython3",
   "version": "3.7.1"
  }
 },
 "nbformat": 4,
 "nbformat_minor": 2
}
