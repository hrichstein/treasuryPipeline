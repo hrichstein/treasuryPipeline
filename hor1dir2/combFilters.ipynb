{
 "cells": [
  {
   "cell_type": "code",
   "execution_count": 1,
   "metadata": {},
   "outputs": [],
   "source": [
    "import numpy as np"
   ]
  },
  {
   "cell_type": "code",
   "execution_count": 2,
   "metadata": {},
   "outputs": [],
   "source": [
    "f606w = np.genfromtxt('HOR-I-xy-std_sph_matched_F606W.dat')\n",
    "f814w = np.genfromtxt('HOR-I-xy-std_sph_matched_F814W.dat')"
   ]
  },
  {
   "cell_type": "code",
   "execution_count": 4,
   "metadata": {},
   "outputs": [],
   "source": [
    "new_arr = np.hstack((f606w,f814w))\n",
    "\n",
    "header = \"RA_f606w DEC_f606w flux_f606w c_star_f606w xr_1_f606w \\\n",
    "yr_1_f606w xt_1_f606w yt_1_f606w mag1_f606w xr_2_f606w yr_2_f606w \\\n",
    "xt_2_f606w yt_2_f606w mag2_f606w xr_3_f606w yr_3_f606w \\\n",
    "xt_3_f606w yt_3_f606w \\\n",
    "mag3_f606w xr_4_f606w yr_4_f606w \\\n",
    "xt_4_f606w yt_4_f606w \\\n",
    "mag4_f606w median_f606w \\\n",
    "stdev_f606w \\\n",
    "RA_f814w DEC_f814w flux_f814w c_star_f814w xr_1_f814w \\\n",
    "yr_1_f814w xt_1_f814w yt_1_f814w mag1_f814w xr_2_f814w yr_2_f814w \\\n",
    "xt_2_f814w yt_2_f814w mag2_f814w xr_3_f814w yr_3_f814w \\\n",
    "xt_3_f814w yt_3_f814w \\\n",
    "mag3_f814w xr_4_f814w yr_4_f814w \\\n",
    "xt_4_f814w yt_4_f814w \\\n",
    "mag4_f814w median_f814w \\\n",
    "stdev_f814w\"\n",
    "\n",
    "save_arr = np.savetxt(\"HORI_final_1712.dat\",new_arr,header=header,fmt='%1.5f')"
   ]
  },
  {
   "cell_type": "code",
   "execution_count": null,
   "metadata": {},
   "outputs": [],
   "source": []
  }
 ],
 "metadata": {
  "kernelspec": {
   "display_name": "Python 3",
   "language": "python",
   "name": "python3"
  },
  "language_info": {
   "codemirror_mode": {
    "name": "ipython",
    "version": 3
   },
   "file_extension": ".py",
   "mimetype": "text/x-python",
   "name": "python",
   "nbconvert_exporter": "python",
   "pygments_lexer": "ipython3",
   "version": "3.7.1"
  }
 },
 "nbformat": 4,
 "nbformat_minor": 2
}
