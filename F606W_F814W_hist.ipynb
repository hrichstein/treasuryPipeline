{
 "cells": [
  {
   "cell_type": "code",
   "execution_count": 1,
   "metadata": {},
   "outputs": [],
   "source": [
    "import numpy as np\n",
    "import matplotlib as mpl\n",
    "from matplotlib import pyplot as plt"
   ]
  },
  {
   "cell_type": "code",
   "execution_count": 2,
   "metadata": {},
   "outputs": [],
   "source": [
    "d6 = np.genfromtxt('hor1dir6pix/HORI_pix_2212_d6_dist.dat',names=True)\n",
    "psf = np.genfromtxt('elena_cats/HOROLOGIUM_CF.1.PSF.CAT',names=True)"
   ]
  },
  {
   "cell_type": "code",
   "execution_count": 3,
   "metadata": {},
   "outputs": [
    {
     "name": "stdout",
     "output_type": "stream",
     "text": [
      "1.50851\n",
      "0.00021\n",
      "1.93721\n",
      "0.0005\n"
     ]
    }
   ],
   "source": [
    "print(max(d6['stdev_f606w']))\n",
    "print(min(d6['stdev_f606w']))\n",
    "print(max(d6['stdev_f814w']))\n",
    "print(min(d6['stdev_f814w']))"
   ]
  },
  {
   "cell_type": "code",
   "execution_count": 9,
   "metadata": {},
   "outputs": [],
   "source": [
    "stdev_bins = np.linspace(0,0.5,25)"
   ]
  },
  {
   "cell_type": "code",
   "execution_count": 10,
   "metadata": {},
   "outputs": [
    {
     "data": {
      "text/plain": [
       "(array([426., 268., 158.,  79.,  43.,  28.,  22.,  19.,  14.,  17.,  13.,\n",
       "         12.,  14.,   3.,  11.,   8.,   4.,   5.,   5.,   6.,   2.,   4.,\n",
       "          2.,   3.]),\n",
       " array([0.        , 0.02083333, 0.04166667, 0.0625    , 0.08333333,\n",
       "        0.10416667, 0.125     , 0.14583333, 0.16666667, 0.1875    ,\n",
       "        0.20833333, 0.22916667, 0.25      , 0.27083333, 0.29166667,\n",
       "        0.3125    , 0.33333333, 0.35416667, 0.375     , 0.39583333,\n",
       "        0.41666667, 0.4375    , 0.45833333, 0.47916667, 0.5       ]),\n",
       " <a list of 24 Patch objects>)"
      ]
     },
     "execution_count": 10,
     "metadata": {},
     "output_type": "execute_result"
    },
    {
     "data": {
      "image/png": "[encoded data removed]",
      "text/plain": [
       "<Figure size 432x288 with 1 Axes>"
      ]
     },
     "metadata": {
      "needs_background": "light"
     },
     "output_type": "display_data"
    }
   ],
   "source": [
    "plt.hist(d6['stdev_f606w'],stdev_bins,alpha=0.5,label='F606w')\n",
    "plt.hist(d6['stdev_f814w'],stdev_bins,alpha=0.5,label='F814w')"
   ]
  },
  {
   "cell_type": "code",
   "execution_count": 12,
   "metadata": {},
   "outputs": [
    {
     "name": "stdout",
     "output_type": "stream",
     "text": [
      "3.76928\n",
      "0.0178\n",
      "3.4101\n",
      "0.01292\n"
     ]
    }
   ],
   "source": [
    "print(max(d6['pos_std_f606w']))\n",
    "print(min(d6['pos_std_f606w']))\n",
    "print(max(d6['pos_std_f814w']))\n",
    "print(min(d6['pos_std_f814w']))"
   ]
  },
  {
   "cell_type": "code",
   "execution_count": 15,
   "metadata": {},
   "outputs": [],
   "source": [
    "pos_bins = np.linspace(0,2,50)"
   ]
  },
  {
   "cell_type": "code",
   "execution_count": 16,
   "metadata": {},
   "outputs": [
    {
     "data": {
      "text/plain": [
       "(array([ 23.,  95.,  95., 103.,  93.,  91.,  78.,  53.,  42.,  50.,  52.,\n",
       "         42.,  45.,  22.,  25.,  30.,  12.,  14.,  25.,  20.,  14.,  10.,\n",
       "         14.,   9.,   7.,   8.,   9.,  10.,   6.,   8.,   8.,   4.,   6.,\n",
       "          6.,   3.,   8.,   0.,   4.,   5.,   2.,   5.,   2.,   3.,   5.,\n",
       "          2.,   6.,   1.,   5.,   3.]),\n",
       " array([0.        , 0.04081633, 0.08163265, 0.12244898, 0.16326531,\n",
       "        0.20408163, 0.24489796, 0.28571429, 0.32653061, 0.36734694,\n",
       "        0.40816327, 0.44897959, 0.48979592, 0.53061224, 0.57142857,\n",
       "        0.6122449 , 0.65306122, 0.69387755, 0.73469388, 0.7755102 ,\n",
       "        0.81632653, 0.85714286, 0.89795918, 0.93877551, 0.97959184,\n",
       "        1.02040816, 1.06122449, 1.10204082, 1.14285714, 1.18367347,\n",
       "        1.2244898 , 1.26530612, 1.30612245, 1.34693878, 1.3877551 ,\n",
       "        1.42857143, 1.46938776, 1.51020408, 1.55102041, 1.59183673,\n",
       "        1.63265306, 1.67346939, 1.71428571, 1.75510204, 1.79591837,\n",
       "        1.83673469, 1.87755102, 1.91836735, 1.95918367, 2.        ]),\n",
       " <a list of 49 Patch objects>)"
      ]
     },
     "execution_count": 16,
     "metadata": {},
     "output_type": "execute_result"
    },
    {
     "data": {
      "image/png": "[encoded data removed]",
      "text/plain": [
       "<Figure size 432x288 with 1 Axes>"
      ]
     },
     "metadata": {
      "needs_background": "light"
     },
     "output_type": "display_data"
    }
   ],
   "source": [
    "plt.hist(d6['pos_std_f606w'],pos_bins,alpha=0.5,label='F606w')\n",
    "plt.hist(d6['pos_std_f814w'],pos_bins,alpha=0.5,label='F814w')"
   ]
  }
 ],
 "metadata": {
  "kernelspec": {
   "display_name": "Python 3",
   "language": "python",
   "name": "python3"
  },
  "language_info": {
   "codemirror_mode": {
    "name": "ipython",
    "version": 3
   },
   "file_extension": ".py",
   "mimetype": "text/x-python",
   "name": "python",
   "nbconvert_exporter": "python",
   "pygments_lexer": "ipython3",
   "version": "3.7.1"
  }
 },
 "nbformat": 4,
 "nbformat_minor": 2
}
