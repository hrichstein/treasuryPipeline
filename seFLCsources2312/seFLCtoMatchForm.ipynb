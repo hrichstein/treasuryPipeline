{
 "cells": [
  {
   "cell_type": "code",
   "execution_count": 1,
   "metadata": {},
   "outputs": [],
   "source": [
    "import numpy as np\n",
    "import os\n",
    "# from astropy.io import fits"
   ]
  },
  {
   "cell_type": "code",
   "execution_count": 2,
   "metadata": {},
   "outputs": [],
   "source": [
    "saveDir = '../matchForm2312/'\n",
    "\n",
    "def transFunc(filename):\n",
    "    tmp = np.genfromtxt(filename,dtype=str,usecols=(3,4,7))\n",
    "    x_arr = tmp[:,0]\n",
    "    y_arr = tmp[:,1]\n",
    "    mag_arr = tmp[:,2]\n",
    "#     print(len(mag_arr))\n",
    "    id_arr = np.arange(0,len(tmp),1,dtype=int)\n",
    "#     print(len(id_arr))\n",
    "    out_arr = np.array([x_arr,y_arr,mag_arr,id_arr])\n",
    "    \n",
    "    header = '# xr yr mag ID'\n",
    "    \n",
    "    \n",
    "    np.savetxt(saveDir + filename.replace('.dat','_mF.dat'),out_arr.T,\n",
    "               header=header,fmt='%s')\n",
    "    \n",
    "    return None\n",
    "    "
   ]
  },
  {
   "cell_type": "code",
   "execution_count": 3,
   "metadata": {},
   "outputs": [],
   "source": [
    "directory = os.fsencode('./')\n",
    "for file in os.listdir(directory):\n",
    "    filename = os.fsdecode(file)\n",
    "    if filename.endswith(\".dat\"):\n",
    "        transFunc(filename)"
   ]
  },
  {
   "cell_type": "code",
   "execution_count": 25,
   "metadata": {},
   "outputs": [],
   "source": [
    "# transFunc('jdan87n6q_PISCES-II_F814W.dat')"
   ]
  },
  {
   "cell_type": "code",
   "execution_count": 18,
   "metadata": {},
   "outputs": [
    {
     "data": {
      "text/plain": [
       "(24108, 4)"
      ]
     },
     "execution_count": 18,
     "metadata": {},
     "output_type": "execute_result"
    }
   ],
   "source": [
    "# test.shape"
   ]
  }
 ],
 "metadata": {
  "kernelspec": {
   "display_name": "Python 3",
   "language": "python",
   "name": "python3"
  },
  "language_info": {
   "codemirror_mode": {
    "name": "ipython",
    "version": 3
   },
   "file_extension": ".py",
   "mimetype": "text/x-python",
   "name": "python",
   "nbconvert_exporter": "python",
   "pygments_lexer": "ipython3",
   "version": "3.7.1"
  }
 },
 "nbformat": 4,
 "nbformat_minor": 2
}
