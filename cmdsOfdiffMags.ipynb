{
 "cells": [
  {
   "cell_type": "code",
   "execution_count": 1,
   "metadata": {},
   "outputs": [],
   "source": [
    "import numpy as np\n",
    "from matplotlib import pyplot as plt\n",
    "import matplotlib as mpl"
   ]
  },
  {
   "cell_type": "code",
   "execution_count": 2,
   "metadata": {},
   "outputs": [],
   "source": [
    "from scipy import stats"
   ]
  },
  {
   "cell_type": "code",
   "execution_count": 3,
   "metadata": {},
   "outputs": [],
   "source": [
    "data = np.genfromtxt('drc_flc_match/flcs_w_drcMAGS.dat',names=True)"
   ]
  },
  {
   "cell_type": "code",
   "execution_count": 4,
   "metadata": {},
   "outputs": [],
   "source": [
    "# data_all = np.genfromtxt()"
   ]
  },
  {
   "cell_type": "code",
   "execution_count": 5,
   "metadata": {},
   "outputs": [],
   "source": [
    "psf = np.genfromtxt('mattia/psf_tight_1202.dat',names=True)\n",
    "aper = np.genfromtxt('mattia/aper_tight_1202.dat',names=True)"
   ]
  },
  {
   "cell_type": "code",
   "execution_count": 6,
   "metadata": {},
   "outputs": [],
   "source": [
    "flc_up= np.genfromtxt('drc_flc_match/up_flc_814_matched.dat',names=True)\n",
    "flc_low= np.genfromtxt('drc_flc_match/low_flc_814_matched.dat',names=True)"
   ]
  },
  {
   "cell_type": "code",
   "execution_count": 7,
   "metadata": {},
   "outputs": [],
   "source": [
    "drc_all = np.genfromtxt('drc_flc_match/all_drc_814_matched.dat',names=True)"
   ]
  },
  {
   "cell_type": "code",
   "execution_count": 8,
   "metadata": {},
   "outputs": [
    {
     "name": "stdout",
     "output_type": "stream",
     "text": [
      "(49,)\n"
     ]
    }
   ],
   "source": [
    "flc_all = np.hstack((flc_up,flc_low))\n",
    "print(flc_all.shape)"
   ]
  },
  {
   "cell_type": "code",
   "execution_count": 9,
   "metadata": {},
   "outputs": [],
   "source": [
    "flc1_diff_arr_606 = data['magDRC_f606w']-data['mag1_f606w']\n",
    "flc2_diff_arr_606 = data['magDRC_f606w']-data['mag2_f606w']\n",
    "flc3_diff_arr_606 = data['magDRC_f606w']-data['mag3_f606w']\n",
    "flc4_diff_arr_606 = data['magDRC_f606w']-data['mag4_f606w']"
   ]
  },
  {
   "cell_type": "code",
   "execution_count": 10,
   "metadata": {},
   "outputs": [],
   "source": [
    "flc1_606_sc = stats.sigmaclip(flc1_diff_arr_606,2.5,2.5)\n",
    "flc2_606_sc = stats.sigmaclip(flc2_diff_arr_606,2.5,2.5)\n",
    "flc3_606_sc = stats.sigmaclip(flc3_diff_arr_606,2.5,2.5)\n",
    "flc4_606_sc = stats.sigmaclip(flc4_diff_arr_606,2.5,2.5)"
   ]
  },
  {
   "cell_type": "code",
   "execution_count": 11,
   "metadata": {},
   "outputs": [
    {
     "data": {
      "text/plain": [
       "array([ 0.03368,  0.12255,  0.01284,  0.24654, -0.15164,  0.16067,\n",
       "        0.06502,  0.07615,  0.03858,  0.06214,  0.0498 ,  0.23405,\n",
       "        0.08738,  0.06776,  0.06776,  0.04735,  0.19636,  0.04551,\n",
       "        0.07419,  0.09433, -0.03568, -0.07609, -0.05886, -0.01194,\n",
       "        0.07532,  0.02048, -0.0368 ,  0.03361,  0.03094, -0.11832,\n",
       "        0.0186 ])"
      ]
     },
     "execution_count": 11,
     "metadata": {},
     "output_type": "execute_result"
    }
   ],
   "source": [
    "flc1_606_sc[0]"
   ]
  },
  {
   "cell_type": "code",
   "execution_count": 12,
   "metadata": {},
   "outputs": [],
   "source": [
    "flc1_diff_arr_814 = data['magDRC_f814w']-data['mag1_f814w']\n",
    "flc2_diff_arr_814 = data['magDRC_f814w']-data['mag2_f814w']\n",
    "flc3_diff_arr_814 = data['magDRC_f814w']-data['mag3_f814w']\n",
    "flc4_diff_arr_814 = data['magDRC_f814w']-data['mag4_f814w']"
   ]
  },
  {
   "cell_type": "code",
   "execution_count": 13,
   "metadata": {},
   "outputs": [],
   "source": [
    "flc1_814_sc = stats.sigmaclip(flc1_diff_arr_814,2.5,2.5)\n",
    "flc2_814_sc = stats.sigmaclip(flc2_diff_arr_814,2.5,2.5)\n",
    "flc3_814_sc = stats.sigmaclip(flc3_diff_arr_814,2.5,2.5)\n",
    "flc4_814_sc = stats.sigmaclip(flc4_diff_arr_814,2.5,2.5)"
   ]
  },
  {
   "cell_type": "code",
   "execution_count": 14,
   "metadata": {},
   "outputs": [],
   "source": [
    "mag1_606_corr = np.mean(flc1_606_sc[0])\n",
    "mag2_606_corr = np.mean(flc2_606_sc[0])\n",
    "mag3_606_corr = np.mean(flc3_606_sc[0])\n",
    "mag4_606_corr = np.mean(flc4_606_sc[0])"
   ]
  },
  {
   "cell_type": "code",
   "execution_count": 15,
   "metadata": {},
   "outputs": [],
   "source": [
    "mag1_814_corr = np.mean(flc1_814_sc[0])\n",
    "mag2_814_corr = np.mean(flc2_814_sc[0])\n",
    "mag3_814_corr = np.mean(flc3_814_sc[0])\n",
    "mag4_814_corr = np.mean(flc4_814_sc[0])"
   ]
  },
  {
   "cell_type": "code",
   "execution_count": 16,
   "metadata": {},
   "outputs": [],
   "source": [
    "mag1_606_corr_arr = data['mag1_f606w'] + mag1_606_corr\n",
    "mag2_606_corr_arr = data['mag2_f606w'] + mag2_606_corr\n",
    "mag3_606_corr_arr = data['mag3_f606w'] + mag3_606_corr\n",
    "mag4_606_corr_arr = data['mag4_f606w'] + mag4_606_corr"
   ]
  },
  {
   "cell_type": "code",
   "execution_count": 17,
   "metadata": {},
   "outputs": [],
   "source": [
    "# tag = np.random.randint(0, 20, 20)\n",
    "# tag[10:12] = 0  # make sure there are some 0 values to show up as grey\n",
    "\n",
    "cmap = plt.cm.jet  # define the colormap\n",
    "# extract all colors from the .jet map\n",
    "cmaplist = [cmap(i) for i in range(cmap.N)]\n",
    "# force the first color entry to be grey\n",
    "cmaplist[0] = (.5, .5, .5, 1.0)\n",
    "\n",
    "# create the new map\n",
    "cmap = mpl.colors.LinearSegmentedColormap.from_list(\n",
    "    'Custom cmap', cmaplist, cmap.N)\n",
    "\n",
    "# define the bins and normalize\n",
    "bounds = np.linspace(0, len(data), len(data)+1)\n",
    "norm = mpl.colors.BoundaryNorm(bounds, cmap.N)"
   ]
  },
  {
   "cell_type": "code",
   "execution_count": 18,
   "metadata": {},
   "outputs": [],
   "source": [
    "# index = random.sample(range(0,len(data)),len(data))\n",
    "\n",
    "index = np.arange(0,len(data),1)"
   ]
  },
  {
   "cell_type": "code",
   "execution_count": 19,
   "metadata": {},
   "outputs": [],
   "source": [
    "mag1_814_corr_arr = data['mag1_f814w'] + mag1_814_corr\n",
    "mag2_814_corr_arr = data['mag2_f814w'] + mag2_814_corr\n",
    "mag3_814_corr_arr = data['mag3_f814w'] + mag3_814_corr\n",
    "mag4_814_corr_arr = data['mag4_f814w'] + mag4_814_corr"
   ]
  },
  {
   "cell_type": "code",
   "execution_count": 20,
   "metadata": {},
   "outputs": [],
   "source": [
    "sc_mean_814 = np.empty((len(data),1))\n",
    "for ss in range(len(data)):\n",
    "# for ss in range(2):\n",
    "    temp_arr = np.array([mag1_814_corr_arr[ss],mag2_814_corr_arr[ss],\\\n",
    "                                           mag3_814_corr_arr[ss],mag3_814_corr_arr[ss]])\n",
    "#     print(np.std(temp_arr))\n",
    "#     sc_mean_814[ss] = np.mean(stats.sigmaclip(temp_arr,2.,2.)[0])\n",
    "# sc_mean_814=sc_mean_814.flatten()"
   ]
  },
  {
   "cell_type": "code",
   "execution_count": 22,
   "metadata": {},
   "outputs": [],
   "source": [
    "sc_mean_606 = np.zeros((len(data),1))\n",
    "for ss in range(len(data)):\n",
    "    temp_arr = np.array([mag1_606_corr_arr[ss],mag2_606_corr_arr[ss],\\\n",
    "                                           mag3_606_corr_arr[ss],mag3_606_corr_arr[ss]])\n",
    "    sc_mean_606[ss] = np.mean(stats.sigmaclip(temp_arr,2.,2.)[0])\n",
    "sc_mean_606=sc_mean_606.flatten()"
   ]
  },
  {
   "cell_type": "code",
   "execution_count": 23,
   "metadata": {},
   "outputs": [],
   "source": [
    "mean_814 = np.empty((len(data),1))\n",
    "for ss in range(len(data)):\n",
    "    temp_arr = np.array([mag1_814_corr_arr[ss],mag2_814_corr_arr[ss],\\\n",
    "                                           mag3_814_corr_arr[ss],mag3_814_corr_arr[ss]])\n",
    "    mean_814[ss] = np.mean(temp_arr)\n",
    "mean_814=mean_814.flatten()"
   ]
  },
  {
   "cell_type": "code",
   "execution_count": 24,
   "metadata": {},
   "outputs": [],
   "source": [
    "mean_606 = np.empty((len(data),1))\n",
    "for ss in range(len(data)):\n",
    "    temp_arr = np.array([mag1_606_corr_arr[ss],mag2_606_corr_arr[ss],\\\n",
    "                                           mag3_606_corr_arr[ss],mag3_606_corr_arr[ss]])\n",
    "    mean_606[ss] = np.mean(temp_arr)\n",
    "mean_606=mean_606.flatten()"
   ]
  },
  {
   "cell_type": "code",
   "execution_count": 25,
   "metadata": {},
   "outputs": [],
   "source": [
    "# Sigma clip color\n",
    "col_arr1 = mag1_606_corr_arr-mag1_814_corr_arr\n",
    "col_arr3 = mag3_606_corr_arr-mag3_814_corr_arr\n",
    "col_arr2 = mag2_606_corr_arr-mag2_814_corr_arr\n",
    "col_arr4 = mag4_606_corr_arr-mag4_814_corr_arr\n"
   ]
  },
  {
   "cell_type": "code",
   "execution_count": 26,
   "metadata": {},
   "outputs": [],
   "source": [
    "mean_col = np.empty((len(data),1))\n",
    "for ss in range(len(data)):\n",
    "    temp_arr = np.array([col_arr1[ss],col_arr2[ss],\\\n",
    "                                           col_arr3[ss],col_arr4[ss]])\n",
    "    mean_col[ss] = np.mean(stats.sigmaclip(temp_arr,2.,2.)[0])\n",
    "mean_col = mean_col.flatten()"
   ]
  },
  {
   "cell_type": "code",
   "execution_count": 30,
   "metadata": {},
   "outputs": [
    {
     "data": {
      "image/png": "[encoded data removed]",
      "text/plain": [
       "<Figure size 504x720 with 1 Axes>"
      ]
     },
     "metadata": {
      "needs_background": "light"
     },
     "output_type": "display_data"
    }
   ],
   "source": [
    "%matplotlib inline\n",
    "fig, ax = plt.subplots(figsize=(7,10))\n",
    "\n",
    "ax.scatter(data['magDRC_f606w']-data['magDRC_f814w'],data['magDRC_f606w'],label='DRC',c=index,cmap=cmap,marker='P',s=100)\n",
    "# ax.scatter(sc_mean_606-sc_mean_814,sc_mean_606,c=index,cmap=cmap,marker='*',edgecolor='black',s=100)\n",
    "ax.scatter(mag1_606_corr_arr-mag1_814_corr_arr,mag1_606_corr_arr,label='M1',c=index,cmap=cmap,s=15,edgecolor='black')\n",
    "ax.scatter(mag2_606_corr_arr-mag2_814_corr_arr,mag2_606_corr_arr,label='M2',c=index,cmap=cmap,s=15,edgecolor='black')\n",
    "ax.scatter(mag3_606_corr_arr-mag3_814_corr_arr,mag3_606_corr_arr,label='M3',c=index,cmap=cmap,s=15,edgecolor='black')\n",
    "ax.scatter(mag4_606_corr_arr-mag4_814_corr_arr,mag4_606_corr_arr,label='M4',c=index,cmap=cmap,s=15,edgecolor='black')\n",
    "\n",
    "# ax.legend()\n",
    "\n",
    "ax.set_ylim(27,22)\n",
    "\n",
    "\n",
    "plt.show()"
   ]
  },
  {
   "cell_type": "code",
   "execution_count": 31,
   "metadata": {},
   "outputs": [
    {
     "data": {
      "image/png": "[encoded data removed]",
      "text/plain": [
       "<Figure size 504x720 with 1 Axes>"
      ]
     },
     "metadata": {
      "needs_background": "light"
     },
     "output_type": "display_data"
    }
   ],
   "source": [
    "# %matplotlib notebook\n",
    "fig, ax = plt.subplots(figsize=(7,10))\n",
    "\n",
    "ax.scatter(data['magDRC_f606w']-data['magDRC_f814w'],data['magDRC_f606w'],label='DRC',c=index,cmap=cmap,marker='P',s=100)\n",
    "ax.scatter(mean_606-mean_814,mean_606,c=index,cmap=cmap,marker='X',edgecolor='black',s=100,label='Mean')\n",
    "ax.scatter(mean_col,mean_606,c=index,cmap=cmap,marker='*',edgecolor='black',s=100,label='SC Col Mean')\n",
    "# ax.scatter(sc_mean_606-sc_mean_814,sc_mean_606,c=index,cmap=cmap,marker='*',edgecolor='black',s=100)\n",
    "\n",
    "# ax.scatter(mag1_606_corr_arr-mag1_814_corr_arr,mag1_606_corr_arr,label='M1',c=index,cmap=cmap,s=15,edgecolor='black')\n",
    "# ax.scatter(mag2_606_corr_arr-mag2_814_corr_arr,mag2_606_corr_arr,label='M2',c=index,cmap=cmap,s=15,edgecolor='black')\n",
    "# ax.scatter(mag3_606_corr_arr-mag3_814_corr_arr,mag3_606_corr_arr,label='M3',c=index,cmap=cmap,s=15,edgecolor='black')\n",
    "# ax.scatter(mag4_606_corr_arr-mag4_814_corr_arr,mag4_606_corr_arr,label='M4',c=index,cmap=cmap,s=15,edgecolor='black')\n",
    "\n",
    "ax.legend()\n",
    "\n",
    "ax.set_ylim(28,22)\n",
    "\n",
    "plt.show()"
   ]
  },
  {
   "cell_type": "code",
   "execution_count": 32,
   "metadata": {},
   "outputs": [
    {
     "ename": "ValueError",
     "evalue": "x and y must be the same size",
     "output_type": "error",
     "traceback": [
      "\u001b[0;31m---------------------------------------------------------------------------\u001b[0m",
      "\u001b[0;31mValueError\u001b[0m                                Traceback (most recent call last)",
      "\u001b[0;32m<ipython-input-32-b3b80c53671b>\u001b[0m in \u001b[0;36m<module>\u001b[0;34m\u001b[0m\n\u001b[1;32m      3\u001b[0m \u001b[0;34m\u001b[0m\u001b[0m\n\u001b[1;32m      4\u001b[0m \u001b[0;31m# ax.scatter(data['magDRC_f606w']-data['magDRC_f814w'],data['magDRC_f606w'],label='DRC',c=index,cmap=cmap,marker='P',s=100)\u001b[0m\u001b[0;34m\u001b[0m\u001b[0;34m\u001b[0m\u001b[0;34m\u001b[0m\u001b[0m\n\u001b[0;32m----> 5\u001b[0;31m \u001b[0max\u001b[0m\u001b[0;34m.\u001b[0m\u001b[0mscatter\u001b[0m\u001b[0;34m(\u001b[0m\u001b[0msc_mean_606\u001b[0m\u001b[0;34m-\u001b[0m\u001b[0msc_mean_814\u001b[0m\u001b[0;34m,\u001b[0m\u001b[0msc_mean_606\u001b[0m\u001b[0;34m,\u001b[0m\u001b[0mc\u001b[0m\u001b[0;34m=\u001b[0m\u001b[0mindex\u001b[0m\u001b[0;34m,\u001b[0m\u001b[0mcmap\u001b[0m\u001b[0;34m=\u001b[0m\u001b[0mcmap\u001b[0m\u001b[0;34m,\u001b[0m\u001b[0mmarker\u001b[0m\u001b[0;34m=\u001b[0m\u001b[0;34m'*'\u001b[0m\u001b[0;34m,\u001b[0m\u001b[0medgecolor\u001b[0m\u001b[0;34m=\u001b[0m\u001b[0;34m'black'\u001b[0m\u001b[0;34m,\u001b[0m\u001b[0ms\u001b[0m\u001b[0;34m=\u001b[0m\u001b[0;36m100\u001b[0m\u001b[0;34m)\u001b[0m\u001b[0;34m\u001b[0m\u001b[0;34m\u001b[0m\u001b[0m\n\u001b[0m\u001b[1;32m      6\u001b[0m \u001b[0max\u001b[0m\u001b[0;34m.\u001b[0m\u001b[0mscatter\u001b[0m\u001b[0;34m(\u001b[0m\u001b[0mmag1_606_corr_arr\u001b[0m\u001b[0;34m-\u001b[0m\u001b[0mmag1_814_corr_arr\u001b[0m\u001b[0;34m,\u001b[0m\u001b[0mmag1_606_corr_arr\u001b[0m\u001b[0;34m,\u001b[0m\u001b[0mlabel\u001b[0m\u001b[0;34m=\u001b[0m\u001b[0;34m'M1'\u001b[0m\u001b[0;34m,\u001b[0m\u001b[0mc\u001b[0m\u001b[0;34m=\u001b[0m\u001b[0mindex\u001b[0m\u001b[0;34m,\u001b[0m\u001b[0mcmap\u001b[0m\u001b[0;34m=\u001b[0m\u001b[0mcmap\u001b[0m\u001b[0;34m,\u001b[0m\u001b[0ms\u001b[0m\u001b[0;34m=\u001b[0m\u001b[0;36m15\u001b[0m\u001b[0;34m,\u001b[0m\u001b[0medgecolor\u001b[0m\u001b[0;34m=\u001b[0m\u001b[0;34m'black'\u001b[0m\u001b[0;34m)\u001b[0m\u001b[0;34m\u001b[0m\u001b[0;34m\u001b[0m\u001b[0m\n\u001b[1;32m      7\u001b[0m \u001b[0max\u001b[0m\u001b[0;34m.\u001b[0m\u001b[0mscatter\u001b[0m\u001b[0;34m(\u001b[0m\u001b[0mmag2_606_corr_arr\u001b[0m\u001b[0;34m-\u001b[0m\u001b[0mmag2_814_corr_arr\u001b[0m\u001b[0;34m,\u001b[0m\u001b[0mmag2_606_corr_arr\u001b[0m\u001b[0;34m,\u001b[0m\u001b[0mlabel\u001b[0m\u001b[0;34m=\u001b[0m\u001b[0;34m'M2'\u001b[0m\u001b[0;34m,\u001b[0m\u001b[0mc\u001b[0m\u001b[0;34m=\u001b[0m\u001b[0mindex\u001b[0m\u001b[0;34m,\u001b[0m\u001b[0mcmap\u001b[0m\u001b[0;34m=\u001b[0m\u001b[0mcmap\u001b[0m\u001b[0;34m,\u001b[0m\u001b[0ms\u001b[0m\u001b[0;34m=\u001b[0m\u001b[0;36m15\u001b[0m\u001b[0;34m,\u001b[0m\u001b[0medgecolor\u001b[0m\u001b[0;34m=\u001b[0m\u001b[0;34m'black'\u001b[0m\u001b[0;34m)\u001b[0m\u001b[0;34m\u001b[0m\u001b[0;34m\u001b[0m\u001b[0m\n",
      "\u001b[0;32m~/anaconda3/lib/python3.7/site-packages/matplotlib/__init__.py\u001b[0m in \u001b[0;36minner\u001b[0;34m(ax, data, *args, **kwargs)\u001b[0m\n\u001b[1;32m   1597\u001b[0m     \u001b[0;32mdef\u001b[0m \u001b[0minner\u001b[0m\u001b[0;34m(\u001b[0m\u001b[0max\u001b[0m\u001b[0;34m,\u001b[0m \u001b[0;34m*\u001b[0m\u001b[0margs\u001b[0m\u001b[0;34m,\u001b[0m \u001b[0mdata\u001b[0m\u001b[0;34m=\u001b[0m\u001b[0;32mNone\u001b[0m\u001b[0;34m,\u001b[0m \u001b[0;34m**\u001b[0m\u001b[0mkwargs\u001b[0m\u001b[0;34m)\u001b[0m\u001b[0;34m:\u001b[0m\u001b[0;34m\u001b[0m\u001b[0;34m\u001b[0m\u001b[0m\n\u001b[1;32m   1598\u001b[0m         \u001b[0;32mif\u001b[0m \u001b[0mdata\u001b[0m \u001b[0;32mis\u001b[0m \u001b[0;32mNone\u001b[0m\u001b[0;34m:\u001b[0m\u001b[0;34m\u001b[0m\u001b[0;34m\u001b[0m\u001b[0m\n\u001b[0;32m-> 1599\u001b[0;31m             \u001b[0;32mreturn\u001b[0m \u001b[0mfunc\u001b[0m\u001b[0;34m(\u001b[0m\u001b[0max\u001b[0m\u001b[0;34m,\u001b[0m \u001b[0;34m*\u001b[0m\u001b[0mmap\u001b[0m\u001b[0;34m(\u001b[0m\u001b[0msanitize_sequence\u001b[0m\u001b[0;34m,\u001b[0m \u001b[0margs\u001b[0m\u001b[0;34m)\u001b[0m\u001b[0;34m,\u001b[0m \u001b[0;34m**\u001b[0m\u001b[0mkwargs\u001b[0m\u001b[0;34m)\u001b[0m\u001b[0;34m\u001b[0m\u001b[0;34m\u001b[0m\u001b[0m\n\u001b[0m\u001b[1;32m   1600\u001b[0m \u001b[0;34m\u001b[0m\u001b[0m\n\u001b[1;32m   1601\u001b[0m         \u001b[0mbound\u001b[0m \u001b[0;34m=\u001b[0m \u001b[0mnew_sig\u001b[0m\u001b[0;34m.\u001b[0m\u001b[0mbind\u001b[0m\u001b[0;34m(\u001b[0m\u001b[0max\u001b[0m\u001b[0;34m,\u001b[0m \u001b[0;34m*\u001b[0m\u001b[0margs\u001b[0m\u001b[0;34m,\u001b[0m \u001b[0;34m**\u001b[0m\u001b[0mkwargs\u001b[0m\u001b[0;34m)\u001b[0m\u001b[0;34m\u001b[0m\u001b[0;34m\u001b[0m\u001b[0m\n",
      "\u001b[0;32m~/anaconda3/lib/python3.7/site-packages/matplotlib/axes/_axes.py\u001b[0m in \u001b[0;36mscatter\u001b[0;34m(self, x, y, s, c, marker, cmap, norm, vmin, vmax, alpha, linewidths, verts, edgecolors, plotnonfinite, **kwargs)\u001b[0m\n\u001b[1;32m   4441\u001b[0m         \u001b[0my\u001b[0m \u001b[0;34m=\u001b[0m \u001b[0mnp\u001b[0m\u001b[0;34m.\u001b[0m\u001b[0mma\u001b[0m\u001b[0;34m.\u001b[0m\u001b[0mravel\u001b[0m\u001b[0;34m(\u001b[0m\u001b[0my\u001b[0m\u001b[0;34m)\u001b[0m\u001b[0;34m\u001b[0m\u001b[0;34m\u001b[0m\u001b[0m\n\u001b[1;32m   4442\u001b[0m         \u001b[0;32mif\u001b[0m \u001b[0mx\u001b[0m\u001b[0;34m.\u001b[0m\u001b[0msize\u001b[0m \u001b[0;34m!=\u001b[0m \u001b[0my\u001b[0m\u001b[0;34m.\u001b[0m\u001b[0msize\u001b[0m\u001b[0;34m:\u001b[0m\u001b[0;34m\u001b[0m\u001b[0;34m\u001b[0m\u001b[0m\n\u001b[0;32m-> 4443\u001b[0;31m             \u001b[0;32mraise\u001b[0m \u001b[0mValueError\u001b[0m\u001b[0;34m(\u001b[0m\u001b[0;34m\"x and y must be the same size\"\u001b[0m\u001b[0;34m)\u001b[0m\u001b[0;34m\u001b[0m\u001b[0;34m\u001b[0m\u001b[0m\n\u001b[0m\u001b[1;32m   4444\u001b[0m \u001b[0;34m\u001b[0m\u001b[0m\n\u001b[1;32m   4445\u001b[0m         \u001b[0;32mif\u001b[0m \u001b[0ms\u001b[0m \u001b[0;32mis\u001b[0m \u001b[0;32mNone\u001b[0m\u001b[0;34m:\u001b[0m\u001b[0;34m\u001b[0m\u001b[0;34m\u001b[0m\u001b[0m\n",
      "\u001b[0;31mValueError\u001b[0m: x and y must be the same size"
     ]
    },
    {
     "data": {
      "image/png": "[encoded data removed]",
      "text/plain": [
       "<Figure size 504x720 with 1 Axes>"
      ]
     },
     "metadata": {
      "needs_background": "light"
     },
     "output_type": "display_data"
    }
   ],
   "source": [
    "# %matplotlib notebook\n",
    "fig, ax = plt.subplots(figsize=(7,10))\n",
    "\n",
    "# ax.scatter(data['magDRC_f606w']-data['magDRC_f814w'],data['magDRC_f606w'],label='DRC',c=index,cmap=cmap,marker='P',s=100)\n",
    "ax.scatter(sc_mean_606-sc_mean_814,sc_mean_606,c=index,cmap=cmap,marker='*',edgecolor='black',s=100)\n",
    "ax.scatter(mag1_606_corr_arr-mag1_814_corr_arr,mag1_606_corr_arr,label='M1',c=index,cmap=cmap,s=15,edgecolor='black')\n",
    "ax.scatter(mag2_606_corr_arr-mag2_814_corr_arr,mag2_606_corr_arr,label='M2',c=index,cmap=cmap,s=15,edgecolor='black')\n",
    "ax.scatter(mag3_606_corr_arr-mag3_814_corr_arr,mag3_606_corr_arr,label='M3',c=index,cmap=cmap,s=15,edgecolor='black')\n",
    "ax.scatter(mag4_606_corr_arr-mag4_814_corr_arr,mag4_606_corr_arr,label='M4',c=index,cmap=cmap,s=15,edgecolor='black')\n",
    "\n",
    "# ax.legend()\n",
    "\n",
    "ax.set_ylim(28,22)\n",
    "\n",
    "plt.show()"
   ]
  },
  {
   "cell_type": "code",
   "execution_count": 33,
   "metadata": {},
   "outputs": [
    {
     "data": {
      "image/png": "[encoded data removed]",
      "text/plain": [
       "<Figure size 720x720 with 1 Axes>"
      ]
     },
     "metadata": {
      "needs_background": "light"
     },
     "output_type": "display_data"
    }
   ],
   "source": [
    "fig,ax = plt.subplots(figsize=(10,10))\n",
    "\n",
    "ax.scatter(drc_all['x_v'],drc_all['y_v'],label='DRC',s=50,color='green')\n",
    "ax.scatter(flc_up['xdrc_up_f606w'],flc_up['ydrc_up_f606w'],s=25,color='orange',edgecolor='black')\n",
    "ax.scatter(flc_low['xdrc_low_f606w'],flc_low['ydrc_low_f606w'],s=25,color='orange',edgecolor='black')\n",
    "# ax.scatter(psf['x'],psf['y'])\n",
    "\n",
    "ax.set_title('Pixel Space in F606W')\n",
    "plt.show()"
   ]
  },
  {
   "cell_type": "code",
   "execution_count": 34,
   "metadata": {},
   "outputs": [
    {
     "data": {
      "image/png": "[encoded data removed]",
      "text/plain": [
       "<Figure size 720x720 with 1 Axes>"
      ]
     },
     "metadata": {
      "needs_background": "light"
     },
     "output_type": "display_data"
    }
   ],
   "source": [
    "fig,ax = plt.subplots(figsize=(10,10))\n",
    "\n",
    "ax.scatter(drc_all['x_i'],drc_all['y_i'],label='DRC',s=50,color='green')\n",
    "ax.scatter(flc_up['xdrc_up_f814w'],flc_up['ydrc_up_f814w'],s=25,color='orange',edgecolor='black')\n",
    "ax.scatter(flc_low['xdrc_low_f814w'],flc_low['ydrc_low_f814w'],s=25,color='orange',edgecolor='black')\n",
    "\n",
    "ax.set_title('Pixel Space in F814W')\n",
    "plt.show()"
   ]
  },
  {
   "cell_type": "code",
   "execution_count": null,
   "metadata": {},
   "outputs": [],
   "source": []
  },
  {
   "cell_type": "code",
   "execution_count": 35,
   "metadata": {},
   "outputs": [],
   "source": [
    "mbins = np.arange(22, 26, 0.5)"
   ]
  },
  {
   "cell_type": "code",
   "execution_count": 36,
   "metadata": {},
   "outputs": [],
   "source": [
    "color1=data['mag1_f606w']-data['mag1_f814w']\n",
    "dig_m1 = np.digitize(data['mag1_f606w'], mbins)\n",
    "\n",
    "color2=data['mag2_f606w']-data['mag2_f814w']\n",
    "dig_m2 = np.digitize(data['mag2_f606w'], mbins)\n",
    "\n",
    "color3=data['mag3_f606w']-data['mag3_f814w']\n",
    "dig_m3 = np.digitize(data['mag3_f606w'], mbins)\n",
    "\n",
    "color4=data['mag4_f606w']-data['mag4_f814w']\n",
    "dig_m4 = np.digitize(data['mag4_f606w'], mbins)\n",
    "\n",
    "colorD = data['magDRC_f606w']-data['magDRC_f814w']\n",
    "dig_mD = np.digitize(data['magDRC_f606w'], mbins)\n"
   ]
  },
  {
   "cell_type": "code",
   "execution_count": 37,
   "metadata": {},
   "outputs": [],
   "source": [
    "colorP = psf['m606c']-psf['m814c']\n",
    "dig_mP = np.digitize(psf['m606c'], mbins)\n",
    "colorA = aper['m606c']-aper['m814c']\n",
    "dig_mA = np.digitize(aper['m606c'], mbins)"
   ]
  },
  {
   "cell_type": "code",
   "execution_count": 38,
   "metadata": {},
   "outputs": [],
   "source": [
    "col_meanP = np.zeros((len(mbins)-1))\n",
    "col_meanA = np.zeros((len(mbins)-1))\n",
    "for ii in range(1,len(mbins)):\n",
    "    col_meanP[ii-1] = np.median(colorP[np.argwhere(dig_mP==ii)])\n",
    "    col_meanA[ii-1] = np.median(colorA[np.argwhere(dig_mA==ii)])"
   ]
  },
  {
   "cell_type": "code",
   "execution_count": 39,
   "metadata": {},
   "outputs": [
    {
     "name": "stderr",
     "output_type": "stream",
     "text": [
      "/Users/hr8jz/anaconda3/lib/python3.7/site-packages/numpy/core/fromnumeric.py:3335: RuntimeWarning: Mean of empty slice.\n",
      "  out=out, **kwargs)\n",
      "/Users/hr8jz/anaconda3/lib/python3.7/site-packages/numpy/core/_methods.py:161: RuntimeWarning: invalid value encountered in double_scalars\n",
      "  ret = ret.dtype.type(ret / rcount)\n"
     ]
    }
   ],
   "source": [
    "col_mean1 = np.zeros((len(mbins)-1))\n",
    "col_mean2 = np.zeros((len(mbins)-1))\n",
    "col_mean3 = np.zeros((len(mbins)-1))\n",
    "col_mean4 = np.zeros((len(mbins)-1))\n",
    "col_meanD = np.zeros((len(mbins)-1))\n",
    "for ii in range(1,len(mbins)):\n",
    "    col_mean1[ii-1] = np.median(color1[np.argwhere(dig_m1==ii)])\n",
    "    col_mean2[ii-1] = np.median(color2[np.argwhere(dig_m2==ii)])\n",
    "    col_mean3[ii-1] = np.median(color3[np.argwhere(dig_m3==ii)])\n",
    "    col_mean4[ii-1] = np.median(color4[np.argwhere(dig_m4==ii)])\n",
    "    col_meanD[ii-1] = np.median(colorD[np.argwhere(dig_mD==ii)])\n",
    "    \n"
   ]
  },
  {
   "cell_type": "code",
   "execution_count": 40,
   "metadata": {},
   "outputs": [],
   "source": [
    "bin_means = [data['mag1_f606w'][dig_m1== i].mean() for i in range(1, len(mbins))]"
   ]
  },
  {
   "cell_type": "code",
   "execution_count": 50,
   "metadata": {},
   "outputs": [
    {
     "name": "stdout",
     "output_type": "stream",
     "text": [
      "[22.49692, 22.97574, 23.233965, 23.89928, 24.258326666666665, 24.78640090909091, 25.185345555555557]\n"
     ]
    }
   ],
   "source": [
    "print(bin_means)"
   ]
  },
  {
   "cell_type": "code",
   "execution_count": 52,
   "metadata": {},
   "outputs": [
    {
     "name": "stdout",
     "output_type": "stream",
     "text": [
      "[22.  22.5 23.  23.5 24.  24.5 25.  25.5]\n"
     ]
    }
   ],
   "source": [
    "print(mbins)"
   ]
  },
  {
   "cell_type": "code",
   "execution_count": 56,
   "metadata": {},
   "outputs": [
    {
     "name": "stdout",
     "output_type": "stream",
     "text": [
      "[22.5 23.  23.5 24.  24.5 25.  25.5]\n"
     ]
    }
   ],
   "source": [
    "bin_means = mbins[1:]\n",
    "print(bin_means)"
   ]
  },
  {
   "cell_type": "code",
   "execution_count": 59,
   "metadata": {},
   "outputs": [
    {
     "data": {
      "image/png": "[encoded data removed]",
      "text/plain": [
       "<Figure size 288x432 with 1 Axes>"
      ]
     },
     "metadata": {
      "needs_background": "light"
     },
     "output_type": "display_data"
    }
   ],
   "source": [
    "fig,ax = plt.subplots(figsize=(4,6))\n",
    "\n",
    "ax.scatter(col_mean1,bin_means,label='M1',alpha=1)\n",
    "ax.scatter(col_mean2,bin_means,label='M2',alpha=1)\n",
    "ax.scatter(col_mean3,bin_means,label='M3',alpha=1)\n",
    "ax.scatter(col_mean4,bin_means,label='M4',alpha=1)\n",
    "ax.scatter(col_meanD,bin_means,label='DRC',alpha=1)\n",
    "ax.scatter(col_meanP,bin_means,label='PSF',alpha=1)\n",
    "ax.scatter(col_meanA,bin_means,label='APER',alpha=1)\n",
    "\n",
    "ax.legend()\n",
    "ax.set_xlabel('Mean Color')\n",
    "ax.set_ylabel('Magnitude Bin')\n",
    "ax.set_ylim(26,21)\n",
    "ax.set_xlim(-1.5,0.)\n",
    "\n",
    "plt.show()"
   ]
  },
  {
   "cell_type": "code",
   "execution_count": 60,
   "metadata": {},
   "outputs": [],
   "source": [
    "colmeans = np.array([col_mean1,col_mean2,col_mean3,col_mean4])\n",
    "print(np.std(colmeans,axis=0))"
   ]
  },
  {
   "cell_type": "code",
   "execution_count": 63,
   "metadata": {},
   "outputs": [
    {
     "name": "stdout",
     "output_type": "stream",
     "text": [
      "[0.66127114 0.11643085 0.02550925 1.15572808 0.2731072  0.04406064\n",
      " 0.06066745]\n"
     ]
    }
   ],
   "source": []
  },
  {
   "cell_type": "code",
   "execution_count": 42,
   "metadata": {},
   "outputs": [],
   "source": [
    "drc_1 = col_meanD - col_mean1\n",
    "drc_2 = col_meanD - col_mean2\n",
    "drc_3 = col_meanD - col_mean3\n",
    "drc_4 = col_meanD - col_mean4"
   ]
  },
  {
   "cell_type": "code",
   "execution_count": 43,
   "metadata": {},
   "outputs": [],
   "source": [
    "psf_1 = col_meanP - col_mean1\n",
    "psf_2 = col_meanP - col_mean2\n",
    "psf_3 = col_meanP - col_mean3\n",
    "psf_4 = col_meanP - col_mean4\n",
    "\n",
    "aper_1 = col_meanA - col_mean1\n",
    "aper_2 = col_meanA - col_mean2\n",
    "aper_3 = col_meanA - col_mean3\n",
    "aper_4 = col_meanA - col_mean4"
   ]
  },
  {
   "cell_type": "code",
   "execution_count": 44,
   "metadata": {},
   "outputs": [],
   "source": [
    "drc_p = col_meanD - col_meanP\n",
    "drc_a = col_meanD - col_meanA"
   ]
  },
  {
   "cell_type": "code",
   "execution_count": 49,
   "metadata": {},
   "outputs": [
    {
     "data": {
      "image/png": "[encoded data removed]",
      "text/plain": [
       "<Figure size 504x360 with 1 Axes>"
      ]
     },
     "metadata": {
      "needs_background": "light"
     },
     "output_type": "display_data"
    }
   ],
   "source": [
    "fig,ax = plt.subplots(figsize=(7,5))\n",
    "\n",
    "ax.scatter(drc_1,bin_means,label='M1',alpha=0.5)\n",
    "ax.scatter(drc_2,bin_means,label='M2',alpha=0.5)\n",
    "ax.scatter(drc_3,bin_means,label='M3',alpha=0.5)\n",
    "ax.scatter(drc_4,bin_means,label='M4',alpha=0.5)\n",
    "\n",
    "# ax.scatter(psf_1,bin_means,label='P1',alpha=0.5,marker='P')\n",
    "# ax.scatter(psf_2,bin_means,label='P2',alpha=0.5,marker='P')\n",
    "# ax.scatter(psf_3,bin_means,label='P3',alpha=0.5,marker='P')\n",
    "# ax.scatter(psf_4,bin_means,label='P4',alpha=0.5,marker='P')\n",
    "\n",
    "# ax.scatter(aper_1,bin_means,label='A1',alpha=0.5,marker='*')\n",
    "# ax.scatter(aper_2,bin_means,label='A2',alpha=0.5,marker='*')\n",
    "# ax.scatter(aper_3,bin_means,label='A3',alpha=0.5,marker='*')\n",
    "# ax.scatter(aper_4,bin_means,label='A4',alpha=0.5,marker='*')\n",
    "\n",
    "ax.scatter(drc_p,bin_means,label='DRC-P',zorder=0)\n",
    "ax.scatter(drc_a,bin_means,label='DRC-A',zorder=0)\n",
    "\n",
    "ax.legend()\n",
    "ax.set_xlabel('Mean Color Difference')\n",
    "ax.set_ylabel('Magnitude Bin')\n",
    "ax.set_ylim(25.5,22.5)\n",
    "ax.vlines(0.0,20,26)\n",
    "ax.set_title('Difference in Colors from DRC')\n",
    "ax.set_xlim(-0.25,0.5)\n",
    "\n",
    "plt.show()"
   ]
  },
  {
   "cell_type": "code",
   "execution_count": null,
   "metadata": {},
   "outputs": [],
   "source": [
    "# mean_arr = np.array([np.nanmean(psf_1),np.nanmean(psf_2),np.nanmean(psf_3),np.nanmean(psf_4)])\n",
    "# avg_psf_dif = np.nanmean(mean_arr)"
   ]
  },
  {
   "cell_type": "code",
   "execution_count": null,
   "metadata": {},
   "outputs": [],
   "source": [
    "psf_arr=np.vstack((psf_1,psf_2,psf_3,psf_4))\n",
    "mean_psf_arr = np.nanmean(psf_arr,axis=0)"
   ]
  },
  {
   "cell_type": "code",
   "execution_count": null,
   "metadata": {},
   "outputs": [],
   "source": [
    "drc_arr=np.vstack((drc_1,drc_2,drc_3,drc_4))\n",
    "mean_drc_arr = np.nanmean(drc_arr,axis=0)"
   ]
  },
  {
   "cell_type": "code",
   "execution_count": null,
   "metadata": {},
   "outputs": [],
   "source": [
    "fig,ax = plt.subplots(figsize=(7,9))\n",
    "\n",
    "# ax.scatter(drc_1,bin_means,label='M1',alpha=0.5)\n",
    "# ax.scatter(drc_2,bin_means,label='M2',alpha=0.5)\n",
    "# ax.scatter(drc_3,bin_means,label='M3',alpha=0.5)\n",
    "# ax.scatter(drc_4,bin_means,label='M4',alpha=0.5)\n",
    "ax.scatter(mean_psf_arr,bin_means,label='MeanP',marker='s',zorder=0)\n",
    "ax.scatter(mean_drc_arr,bin_means,label='MeanD',marker='s',zorder=0)\n",
    "\n",
    "ax.scatter(mean_psf_arr-mean_drc_arr,bin_means,label='MeanEndDif',marker='s',zorder=0)\n",
    "\n",
    "ax.scatter(psf_1,bin_means,label='P1',alpha=0.5,marker='P')\n",
    "ax.scatter(psf_2,bin_means,label='P2',alpha=0.5,marker='P')\n",
    "ax.scatter(psf_3,bin_means,label='P3',alpha=0.5,marker='P')\n",
    "ax.scatter(psf_4,bin_means,label='P4',alpha=0.5,marker='P')\n",
    "\n",
    "\n",
    "\n",
    "# ax.scatter(aper_1,bin_means,label='A1',alpha=0.5,marker='*')\n",
    "# ax.scatter(aper_2,bin_means,label='A2',alpha=0.5,marker='*')\n",
    "# ax.scatter(aper_3,bin_means,label='A3',alpha=0.5,marker='*')\n",
    "# ax.scatter(aper_4,bin_means,label='A4',alpha=0.5,marker='*')\n",
    "\n",
    "# ax.scatter(drc_p,bin_means,label='DRC-P',zorder=0)\n",
    "# ax.scatter(drc_a,bin_means,label='DRC-A',zorder=0)\n",
    "\n",
    "ax.legend()\n",
    "ax.set_xlabel('Mean Color Difference')\n",
    "ax.set_ylabel('Magnitude Bin')\n",
    "ax.set_ylim(25.5,22.48)\n",
    "ax.vlines(0.0,20,26)\n",
    "ax.set_title('Difference in Colors from Mattia')\n",
    "# ax.set_xlim(-0.25,0.5)\n",
    "\n",
    "plt.show()"
   ]
  },
  {
   "cell_type": "code",
   "execution_count": null,
   "metadata": {},
   "outputs": [],
   "source": [
    "fig,ax = plt.subplots(figsize=(7,9))\n",
    "\n",
    "# ax.scatter(mean_psf_arr,bin_means,label='MeanP',marker='s',zorder=0)\n",
    "# ax.scatter(mean_drc_arr,bin_means,label='MeanD',marker='s',zorder=0)\n",
    "\n",
    "ax.scatter(mean_psf_arr-mean_drc_arr,bin_means,label='MeanEndDif',marker='s',zorder=0)\n",
    "\n",
    "# ax.scatter(psf_1,bin_means,label='P1',alpha=0.5,marker='P')\n",
    "# ax.scatter(psf_2,bin_means,label='P2',alpha=0.5,marker='P')\n",
    "# ax.scatter(psf_3,bin_means,label='P3',alpha=0.5,marker='P')\n",
    "# ax.scatter(psf_4,bin_means,label='P4',alpha=0.5,marker='P')\n",
    "\n",
    "\n",
    "\n",
    "ax.legend()\n",
    "ax.set_xlabel('Mean Color Difference')\n",
    "ax.set_ylabel('Magnitude Bin')\n",
    "ax.set_ylim(25.5,22.48)\n",
    "ax.vlines(0.01,20,26)\n",
    "ax.set_title('Difference in Colors from Mattia')\n",
    "# ax.set_xlim(-0.25,0.5)\n",
    "\n",
    "plt.show()"
   ]
  },
  {
   "cell_type": "code",
   "execution_count": null,
   "metadata": {},
   "outputs": [],
   "source": [
    "print('Mean:',np.nanmean(mean_psf_arr-mean_drc_arr))\n",
    "print('Median:',np.nanmedian(mean_psf_arr-mean_drc_arr))"
   ]
  },
  {
   "cell_type": "code",
   "execution_count": null,
   "metadata": {},
   "outputs": [],
   "source": [
    "print('Mean:',np.nanmean(drc_1))\n",
    "print('Median:',np.nanmedian(drc_1))\n",
    "print('Mean:',np.nanmean(drc_2))\n",
    "print('Median:',np.nanmedian(drc_2))\n",
    "print('Mean:',np.nanmean(drc_3))\n",
    "print('Median:',np.nanmedian(drc_3))\n",
    "print('Mean:',np.nanmean(drc_4))\n",
    "print('Median:',np.nanmedian(drc_4))"
   ]
  },
  {
   "cell_type": "code",
   "execution_count": null,
   "metadata": {},
   "outputs": [],
   "source": [
    "print('Mean:',np.nanmean(drc_p))\n",
    "print('Median:',np.nanmedian(drc_p))\n",
    "print('Mean:',np.nanmean(drc_a))\n",
    "print('Median:',np.nanmedian(drc_a))"
   ]
  },
  {
   "cell_type": "code",
   "execution_count": null,
   "metadata": {},
   "outputs": [],
   "source": [
    "print('Mean:',np.nanmean(psf_1))\n",
    "print('Median:',np.nanmedian(psf_1))\n",
    "print('Mean:',np.nanmean(psf_2))\n",
    "print('Median:',np.nanmedian(psf_2))\n",
    "print('Mean:',np.nanmean(psf_3))\n",
    "print('Median:',np.nanmedian(psf_3))\n",
    "print('Mean:',np.nanmean(psf_4))\n",
    "print('Median:',np.nanmedian(psf_4))"
   ]
  },
  {
   "cell_type": "code",
   "execution_count": null,
   "metadata": {},
   "outputs": [],
   "source": [
    "print('Mean:',np.nanmean(aper_1))\n",
    "print('Median:',np.nanmedian(aper_1))\n",
    "print('Mean:',np.nanmean(aper_2))\n",
    "print('Median:',np.nanmedian(aper_2))\n",
    "print('Mean:',np.nanmean(aper_3))\n",
    "print('Median:',np.nanmedian(aper_3))\n",
    "print('Mean:',np.nanmean(aper_4))\n",
    "print('Median:',np.nanmedian(aper_4))"
   ]
  },
  {
   "cell_type": "code",
   "execution_count": null,
   "metadata": {},
   "outputs": [],
   "source": [
    "median_flc_606 = np.nanmedian(np.array([data['mag1_f606w'],data['mag2_f606w'],data['mag3_f606w'],\\\n",
    "                                        data['mag4_f606w']]),axis=0)"
   ]
  },
  {
   "cell_type": "code",
   "execution_count": null,
   "metadata": {},
   "outputs": [],
   "source": [
    "median_flc_814 = np.nanmedian(np.array([data['mag1_f814w'],data['mag2_f814w'],data['mag3_f814w'],\\\n",
    "                                        data['mag4_f814w']]),axis=0)"
   ]
  },
  {
   "cell_type": "code",
   "execution_count": null,
   "metadata": {},
   "outputs": [],
   "source": [
    "median_flc_606.shape"
   ]
  },
  {
   "cell_type": "code",
   "execution_count": null,
   "metadata": {},
   "outputs": [],
   "source": [
    "fig,ax = plt.subplots(figsize=(7,9))\n",
    "\n",
    "# ax.scatter(mean_psf_arr,bin_means,label='MeanP',marker='s',zorder=0)\n",
    "# ax.scatter(mean_drc_arr,bin_means,label='MeanD',marker='s',zorder=0)\n",
    "\n",
    "# ax.scatter(mean_psf_arr-mean_drc_arr,bin_means,label='MeanEndDif',marker='s',zorder=0)\n",
    "ax.scatter((data['magDRC_f606w']-data['magDRC_f814w'])-(median_flc_606-median_flc_814),data['mag1_f606w'])\n",
    "\n",
    "\n",
    "ax.legend()\n",
    "ax.set_xlabel('Mean Color Difference')\n",
    "ax.set_ylabel('Magnitude Bin')\n",
    "ax.set_ylim(25.5,22.48)\n",
    "ax.vlines(0.01,20,26)\n",
    "ax.set_title('Difference in Mean Colors after Adjustment')\n",
    "# ax.set_xlim(-0.25,0.5)\n",
    "\n",
    "plt.show()"
   ]
  },
  {
   "cell_type": "code",
   "execution_count": null,
   "metadata": {},
   "outputs": [],
   "source": [
    "data1 = data[data['stdev_f606w']<0.1]\n",
    "median_flc_606_1 = np.nanmedian(np.array([data1['mag1_f606w'],data1['mag2_f606w'],data1['mag3_f606w'],\\\n",
    "                                        data1['mag4_f606w']]),axis=0)\n",
    "median_flc_814_1 = np.nanmedian(np.array([data1['mag1_f814w'],data1['mag2_f814w'],data1['mag3_f814w'],\\\n",
    "                                        data1['mag4_f814w']]),axis=0)"
   ]
  },
  {
   "cell_type": "code",
   "execution_count": null,
   "metadata": {},
   "outputs": [],
   "source": [
    "val = (data1['magDRC_f606w']-data1['magDRC_f814w'])-(median_flc_606_1-median_flc_814_1)\n",
    "\n",
    "print('Mean:',np.nanmean(val))\n",
    "print('Median:',np.nanmedian(val))"
   ]
  },
  {
   "cell_type": "code",
   "execution_count": null,
   "metadata": {},
   "outputs": [],
   "source": [
    "fig,ax = plt.subplots(figsize=(7,9))\n",
    "\n",
    "# ax.scatter(mean_psf_arr,bin_means,label='MeanP',marker='s',zorder=0)\n",
    "# ax.scatter(mean_drc_arr,bin_means,label='MeanD',marker='s',zorder=0)\n",
    "\n",
    "# ax.scatter(mean_psf_arr-mean_drc_arr,bin_means,label='MeanEndDif',marker='s',zorder=0)\n",
    "ax.scatter(val,data1['mag1_f606w'])\n",
    "\n",
    "\n",
    "# ax.legend()\n",
    "ax.set_xlabel('Mean Color Difference')\n",
    "ax.set_ylabel('Magnitude Bin')\n",
    "ax.set_ylim(25.5,22.48)\n",
    "ax.vlines(0.01,20,26)\n",
    "ax.set_title('Difference in Mean Colors after Adjustment')\n",
    "# ax.set_xlim(-0.25,0.5)\n",
    "\n",
    "plt.show()"
   ]
  },
  {
   "cell_type": "code",
   "execution_count": null,
   "metadata": {},
   "outputs": [],
   "source": [
    "fig,(ax1,ax2,ax3,ax4) = plt.subplots(1,4,figsize=(18,7),sharey=True,sharex=True)\n",
    "\n",
    "ax1.scatter(data['magDRC_f606w']-data['magDRC_f814w'],data['magDRC_f606w'],label='DRC',marker='P',s=100,edgecolor='purple')\n",
    "ax2.scatter(data['magDRC_f606w']-data['magDRC_f814w'],data['magDRC_f606w'],label='DRC',marker='P',s=100,edgecolor='purple')\n",
    "ax3.scatter(data['magDRC_f606w']-data['magDRC_f814w'],data['magDRC_f606w'],label='DRC',marker='P',s=100,edgecolor='purple')\n",
    "ax4.scatter(data['magDRC_f606w']-data['magDRC_f814w'],data['magDRC_f606w'],label='DRC',marker='P',s=100,edgecolor='purple')\n",
    "\n",
    "ax1.scatter(data['mag1_f606w']-data['mag1_f814w'],data['mag1_f606w'],label='Mag1',\\\n",
    "            s=15,edgecolor='black',facecolor='None')\n",
    "ax2.scatter(data['mag2_f606w']-data['mag2_f814w'],data['mag2_f606w'],label='Mag2',\\\n",
    "            s=15,edgecolor='black',facecolor='None')\n",
    "ax3.scatter(data['mag3_f606w']-data['mag3_f814w'],data['mag3_f606w'],label='Mag3',\\\n",
    "            s=15,edgecolor='black',facecolor='None')\n",
    "ax4.scatter(data['mag4_f606w']-data['mag4_f814w'],data['mag4_f606w'],label='Mag4',\\\n",
    "            s=15,edgecolor='black',facecolor='None')\n",
    "\n",
    "ax1.set_ylim(28,18)\n",
    "ax1.set_xlim(-3.5,2)\n",
    "# ax.legend()\n",
    "\n",
    "plt.show()"
   ]
  },
  {
   "cell_type": "code",
   "execution_count": null,
   "metadata": {},
   "outputs": [],
   "source": [
    "fig,ax = plt.subplots(figsize=(7,9))\n",
    "\n",
    "# ax.scatter(psf['m606c']-psf['m814c'],psf['m606c'],color='red')\n",
    "ax.scatter(data['magDRC_f606w']-data['magDRC_f814w'],data['magDRC_f606w'],label='DRC',marker='P',s=100,edgecolor='purple')\n",
    "ax.scatter(median_flc_606-median_flc_814,median_flc_606,label='Meds')\n",
    "\n",
    "\n",
    "ax.set_ylim(28,18)\n",
    "ax.set_xlim(-1.5,1)\n",
    "plt.show()\n"
   ]
  },
  {
   "cell_type": "code",
   "execution_count": null,
   "metadata": {},
   "outputs": [],
   "source": [
    "fig,ax = plt.subplots(figsize=(7,9))\n",
    "\n",
    "ax.scatter(data['magDRC_f606w']-data['magDRC_f814w'],data['magDRC_f606w'],label='DRC',marker='P',s=100,edgecolor='purple')\n",
    "ax.scatter(median_flc_606-median_flc_814,median_flc_606,label='Meds')\n",
    "\n",
    "ax.set_ylim(25.5,22.48)\n",
    "ax.set_xlim(-1.5,1)\n",
    "plt.show()\n"
   ]
  },
  {
   "cell_type": "code",
   "execution_count": null,
   "metadata": {},
   "outputs": [],
   "source": [
    "fig,(ax1,ax2,ax3,ax4) = plt.subplots(1,4,figsize=(26,7),sharey=True,sharex=True)\n",
    "\n",
    "ax1.scatter(data['magDRC_f606w']-data['magDRC_f814w'],data['magDRC_f606w'],label='DRC',c=index,cmap=cmap,marker='P')\n",
    "ax2.scatter(data['magDRC_f606w']-data['magDRC_f814w'],data['magDRC_f606w'],label='DRC',c=index,cmap=cmap,marker='P')\n",
    "ax3.scatter(data['magDRC_f606w']-data['magDRC_f814w'],data['magDRC_f606w'],label='DRC',c=index,cmap=cmap,marker='P')\n",
    "ax4.scatter(data['magDRC_f606w']-data['magDRC_f814w'],data['magDRC_f606w'],label='DRC',c=index,cmap=cmap,marker='P')\n",
    "\n",
    "ax1.scatter(data['mag1_f606w']-data['mag1_f814w'],data['mag1_f606w'],label='Mag1',c=index,cmap=cmap,edgecolor='black')\n",
    "ax2.scatter(data['mag2_f606w']-data['mag2_f814w'],data['mag2_f606w'],label='Mag2',c=index,cmap=cmap,edgecolor='black')\n",
    "ax3.scatter(data['mag3_f606w']-data['mag3_f814w'],data['mag3_f606w'],label='Mag3',c=index,cmap=cmap,edgecolor='black')\n",
    "ax4.scatter(data['mag4_f606w']-data['mag4_f814w'],data['mag4_f606w'],label='Mag4',c=index,cmap=cmap,edgecolor='black')\n",
    "\n",
    "ax1.set_ylim(28,18)\n",
    "ax1.set_xlim(-3.5,2)\n",
    "# ax.legend()\n",
    "\n",
    "plt.show()"
   ]
  },
  {
   "cell_type": "code",
   "execution_count": null,
   "metadata": {},
   "outputs": [],
   "source": [
    "# fig,ax = plt.subplots(figsize=(7,9))\n",
    "\n",
    "# # ax.scatter(mean_psf_arr,bin_means,label='MeanP',marker='s',zorder=0)\n",
    "# # ax.scatter(mean_drc_arr,bin_means,label='MeanD',marker='s',zorder=0)\n",
    "\n",
    "# # ax.scatter(mean_psf_arr-mean_drc_arr,bin_means,label='MeanEndDif',marker='s',zorder=0)\n",
    "# ax.scatter(val,data1['mag1_f606w'],c=index,cmap=cmap)\n",
    "\n",
    "\n",
    "# # ax.legend()\n",
    "# ax.set_xlabel('Mean Color Difference')\n",
    "# ax.set_ylabel('Magnitude Bin')\n",
    "# ax.set_ylim(25.5,22.48)\n",
    "# ax.vlines(0.01,20,26)\n",
    "# ax.set_title('Difference in Mean Colors after Adjustment')\n",
    "# # ax.set_xlim(-0.25,0.5)\n",
    "\n",
    "# plt.show()"
   ]
  },
  {
   "cell_type": "code",
   "execution_count": null,
   "metadata": {},
   "outputs": [],
   "source": [
    "fig,ax = plt.subplots(figsize=(7,10))\n",
    "\n",
    "ax.scatter(data['magDRC_f606w']-data['magDRC_f814w'],data['magDRC_f606w'],label='DRC',c=index,\\\n",
    "           cmap=cmap,marker='P',s=100)\n",
    "\n",
    "ax.scatter(data['mag1_f606w']-data['mag1_f814w'],data['mag1_f606w'],label='Mag1',c=index,cmap=cmap,\\\n",
    "           edgecolor='black',s=15)\n",
    "ax.scatter(data['mag2_f606w']-data['mag2_f814w'],data['mag2_f606w'],label='Mag2',\\\n",
    "           s=15,c=index,cmap=cmap,edgecolor='black')\n",
    "ax.scatter(data['mag3_f606w']-data['mag3_f814w'],data['mag3_f606w'],label='Mag3',\\\n",
    "           s=15,c=index,cmap=cmap,edgecolor='black')\n",
    "ax.scatter(data['mag4_f606w']-data['mag4_f814w'],data['mag4_f606w'],label='Mag4',\\\n",
    "           s=15,c=index,cmap=cmap,edgecolor='black')\n",
    "\n",
    "ax.set_ylim(28,18)\n",
    "ax.set_xlim(-3.5,2)\n",
    "# ax.legend()\n",
    "\n",
    "plt.show()"
   ]
  },
  {
   "cell_type": "code",
   "execution_count": null,
   "metadata": {},
   "outputs": [],
   "source": [
    "%matplotlib notebook\n",
    "fig,ax = plt.subplots(figsize=(15,10))\n",
    "\n",
    "ax.scatter(data['magDRC_f606w']-data['magDRC_f814w'],data['magDRC_f606w'],label='DRC',c=index,\\\n",
    "           cmap=cmap,marker='P',s=100)\n",
    "\n",
    "ax.scatter(data['mag1_f606w']-data['mag1_f814w'],data['mag1_f606w'],label='Mag1',c=index,cmap=cmap,\\\n",
    "           edgecolor='black',s=15)\n",
    "ax.scatter(data['mag2_f606w']-data['mag2_f814w'],data['mag2_f606w'],label='Mag2',\\\n",
    "           s=15,c=index,cmap=cmap,edgecolor='black')\n",
    "ax.scatter(data['mag3_f606w']-data['mag3_f814w'],data['mag3_f606w'],label='Mag3',\\\n",
    "           s=15,c=index,cmap=cmap,edgecolor='black')\n",
    "ax.scatter(data['mag4_f606w']-data['mag4_f814w'],data['mag4_f606w'],label='Mag4',\\\n",
    "           s=15,c=index,cmap=cmap,edgecolor='black')\n",
    "\n",
    "ax.set_ylim(26,22)\n",
    "ax.set_xlim(-3.5,2)\n",
    "# ax.legend()\n",
    "\n",
    "plt.show()"
   ]
  },
  {
   "cell_type": "code",
   "execution_count": null,
   "metadata": {},
   "outputs": [],
   "source": [
    "fig,ax = plt.subplots(figsize=(15,10))\n",
    "\n",
    "ax.scatter(data['magDRC_f606w']-data['magDRC_f814w'],data['magDRC_f606w'],label='DRC',c=index,\\\n",
    "           cmap=cmap,marker='P',s=100)\n",
    "\n",
    "ax.scatter(data['mag1_f606w']-data['mag1_f814w'],data['mag1_f606w'],label='Mag1',c=index,cmap=cmap,\\\n",
    "           edgecolor='black',s=25)\n",
    "ax.scatter(data['mag2_f606w']-data['mag2_f814w'],data['mag2_f606w'],label='Mag2',\\\n",
    "           s=25,c=index,cmap=cmap,edgecolor='black')\n",
    "ax.scatter(data['mag3_f606w']-data['mag3_f814w'],data['mag3_f606w'],label='Mag3',\\\n",
    "           s=25,c=index,cmap=cmap,edgecolor='black')\n",
    "ax.scatter(data['mag4_f606w']-data['mag4_f814w'],data['mag4_f606w'],label='Mag4',\\\n",
    "           s=25,c=index,cmap=cmap,edgecolor='black')\n",
    "\n",
    "ax.set_ylim(26,24.5)\n",
    "ax.set_xlim(-0.8,0)\n",
    "# ax.legend()\n",
    "\n",
    "plt.show()"
   ]
  },
  {
   "cell_type": "code",
   "execution_count": null,
   "metadata": {},
   "outputs": [],
   "source": [
    "fig,ax = plt.subplots(figsize=(15,10))\n",
    "\n",
    "ax.scatter(data['magDRC_f606w']-data['magDRC_f814w'],data['magDRC_f606w'],label='DRC',c=index,\\\n",
    "           cmap=cmap,marker='P',s=100)\n",
    "\n",
    "ax.scatter(data['mag1_f606w']-data['mag1_f814w'],data['mag1_f606w'],label='Mag1',c=index,cmap=cmap,\\\n",
    "           edgecolor='black',s=25)\n",
    "# ax.scatter(data['mag2_f606w']-data['mag2_f814w'],data['mag2_f606w'],label='Mag2',\\\n",
    "#            s=25,c=index,cmap=cmap,edgecolor='black')\n",
    "# ax.scatter(data['mag3_f606w']-data['mag3_f814w'],data['mag3_f606w'],label='Mag3',\\\n",
    "#            s=25,c=index,cmap=cmap,edgecolor='black')\n",
    "# ax.scatter(data['mag4_f606w']-data['mag4_f814w'],data['mag4_f606w'],label='Mag4',\\\n",
    "#            s=25,c=index,cmap=cmap,edgecolor='black')\n",
    "\n",
    "ax.set_ylim(26,24.5)\n",
    "ax.set_xlim(-0.8,0)\n",
    "# ax.legend()\n",
    "\n",
    "plt.show()"
   ]
  },
  {
   "cell_type": "code",
   "execution_count": null,
   "metadata": {},
   "outputs": [],
   "source": []
  }
 ],
 "metadata": {
  "kernelspec": {
   "display_name": "Python 3",
   "language": "python",
   "name": "python3"
  },
  "language_info": {
   "codemirror_mode": {
    "name": "ipython",
    "version": 3
   },
   "file_extension": ".py",
   "mimetype": "text/x-python",
   "name": "python",
   "nbconvert_exporter": "python",
   "pygments_lexer": "ipython3",
   "version": "3.7.6"
  }
 },
 "nbformat": 4,
 "nbformat_minor": 2
}
