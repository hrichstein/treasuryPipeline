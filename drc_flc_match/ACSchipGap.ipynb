{
 "cells": [
  {
   "cell_type": "code",
   "execution_count": 1,
   "metadata": {},
   "outputs": [],
   "source": [
    "import numpy as np"
   ]
  },
  {
   "cell_type": "code",
   "execution_count": 20,
   "metadata": {},
   "outputs": [],
   "source": [
    "dire = '/Users/hr8jz/Box Sync/Research/source_lists/june13/'"
   ]
  },
  {
   "cell_type": "code",
   "execution_count": 5,
   "metadata": {},
   "outputs": [],
   "source": [
    "source_list=np.genfromtxt('/Users/hr8jz/Box Sync/Research/source_lists/june13/' \\\n",
    "                          'HOROLOGIUM-I_sfErr.dat',names=True)"
   ]
  },
  {
   "cell_type": "code",
   "execution_count": 6,
   "metadata": {},
   "outputs": [],
   "source": [
    "y_spot = source_list['y_v']"
   ]
  },
  {
   "cell_type": "code",
   "execution_count": 7,
   "metadata": {},
   "outputs": [
    {
     "name": "stdout",
     "output_type": "stream",
     "text": [
      "113\n"
     ]
    }
   ],
   "source": [
    "counter = 0\n",
    "for yy in range(len(y_spot)):\n",
    "    if (2023 < y_spot[yy] < 2231):\n",
    "        counter+=1\n",
    "        \n",
    "print(counter)"
   ]
  },
  {
   "cell_type": "code",
   "execution_count": 18,
   "metadata": {},
   "outputs": [],
   "source": [
    "upper_source = source_list[y_spot > 2231]\n",
    "lower_source = source_list[y_spot < 2032]"
   ]
  },
  {
   "cell_type": "code",
   "execution_count": 22,
   "metadata": {},
   "outputs": [],
   "source": [
    "header = '# RA_v DEC_v x_v y_v fAper_v '\\\n",
    "'fErr_v magAper_v magErr_v magRaw_v magRed_v '\\\n",
    "'magAbs_v elong_v ellip_v class_Star_v RA_i DEC_i x_i '\\\n",
    "'y_i fAper_i fErr_i magAper_i magErr_i magRaw_i magRed_i '\\\n",
    "'magAbs_i elong_i ellip_i class_Star_i corrF_errV corrF_errI '\\\n",
    "'corrM_errV corrM_errI'"
   ]
  },
  {
   "cell_type": "code",
   "execution_count": null,
   "metadata": {},
   "outputs": [],
   "source": [
    "# keep = sag2['magErr_v']!=sag2['magErr_v']\n",
    "# for vv in range(len(xedge)-1):\n",
    "#     for ii in range(len(yedge)-1):\n",
    "#         if hist_err[vv,ii] >= 25:\n",
    "#             temp_keep = np.logical_and(np.logical_and(xedge[vv]<sag2['magErr_v'],sag2['magErr_v']<xedge[vv+1]), \n",
    "#                                        np.logical_and(yedge[ii]<sag2['magErr_i'],sag2['magErr_i']<yedge[ii+1]))\n",
    "#             keep = np.logical_or(keep,temp_keep)"
   ]
  },
  {
   "cell_type": "code",
   "execution_count": 33,
   "metadata": {},
   "outputs": [],
   "source": [
    "trans_Dir = '/Volumes/Spare Data/Hannah_Data/drc_flc_match/'"
   ]
  },
  {
   "cell_type": "code",
   "execution_count": 34,
   "metadata": {},
   "outputs": [],
   "source": [
    "np.savetxt(trans_Dir+'upper_HORI_drc.dat',upper_source,header=header)\n",
    "np.savetxt(trans_Dir+'lower_HORI_drc.dat',lower_source,header=header)"
   ]
  },
  {
   "cell_type": "code",
   "execution_count": 24,
   "metadata": {},
   "outputs": [
    {
     "data": {
      "text/plain": [
       "957"
      ]
     },
     "execution_count": 24,
     "metadata": {},
     "output_type": "execute_result"
    }
   ],
   "source": [
    "len(upper_source)"
   ]
  },
  {
   "cell_type": "code",
   "execution_count": 6,
   "metadata": {},
   "outputs": [],
   "source": [
    "# dire2 = '/Volumes/Spare Data/Hannah_Data/hor1dir6pix/'\n",
    "dire2 = '/Volumes/Spare Data/Hannah_Data/drc_flc_CR/'"
   ]
  },
  {
   "cell_type": "code",
   "execution_count": 8,
   "metadata": {},
   "outputs": [],
   "source": [
    "# flc = np.genfromtxt(dire2+'HORI_pix_2212_d6_dist.dat',names=True)\n",
    "flc = np.genfromtxt(dire2+'HORI_pix_2503_comb.dat',names=True)"
   ]
  },
  {
   "cell_type": "code",
   "execution_count": 9,
   "metadata": {},
   "outputs": [],
   "source": [
    "y_source = flc['yr_1_f606w']"
   ]
  },
  {
   "cell_type": "code",
   "execution_count": 10,
   "metadata": {},
   "outputs": [],
   "source": [
    "upper_flc = flc[y_source > 2053]\n",
    "lower_flc = flc[y_source < 2043]"
   ]
  },
  {
   "cell_type": "code",
   "execution_count": 11,
   "metadata": {},
   "outputs": [],
   "source": [
    "head2 = \"RA_f606w DEC_f606w flux_f606w c_star_f606w xr_1_f606w \\\n",
    "yr_1_f606w xc_1_f606w yc_1_f606w \\\n",
    "xt_1_f606w yt_1_f606w \\\n",
    "mag1_f606w xr_2_f606w yr_2_f606w xc_2_f606w yc_2_f606w \\\n",
    "xt_2_f606w yt_2_f606w \\\n",
    "mag2_f606w xr_3_f606w yr_3_f606w xc_3_f606w yc_3_f606w \\\n",
    "xt_3_f606w yt_3_f606w \\\n",
    "mag3_f606w xr_4_f606w yr_4_f606w xc_4_f606w yc_4_f606w \\\n",
    "xt_4_f606w yt_4_f606w \\\n",
    "mag4_f606w mean_f606w stdev_f606w pos_std_f606w cut_flag_f606w \\\n",
    "cut_idx_f606w num_abv_std_f606w \\\n",
    "RA_f814w DEC_f814w flux_f814w c_star_f814w xr_1_f814w yr_1_f814w \\\n",
    "xc_1_f814w yc_1_f814w xt_1_f814w yt_1_f814w \\\n",
    "mag1_f814w xr_2_f814w yr_2_f814w xc_2_f814w yc_2_f814w \\\n",
    "xt_2_f814w yt_2_f814w \\\n",
    "mag2_f814w xr_3_f814w yr_3_f814w xc_3_f814w yc_3_f814w \\\n",
    "xt_3_f814w yt_3_f814w \\\n",
    "mag3_f814w xr_4_f814w yr_4_f814w xc_4_f814w yc_4_f814w \\\n",
    "xt_4_f814w yt_4_f814w \\\n",
    "mag4_f814w mean_f814w stdev_f814w pos_std_f814w cut_flag_f814w \\\n",
    "cut_idx_f814w num_abv_std_f814w\""
   ]
  },
  {
   "cell_type": "code",
   "execution_count": 12,
   "metadata": {},
   "outputs": [],
   "source": [
    "np.savetxt(dire2+'upper_flc.dat',upper_flc,header=head2)\n",
    "np.savetxt(dire2+'lower_flc.dat',lower_flc,header=head2)"
   ]
  },
  {
   "cell_type": "code",
   "execution_count": null,
   "metadata": {},
   "outputs": [],
   "source": []
  }
 ],
 "metadata": {
  "kernelspec": {
   "display_name": "Python 3",
   "language": "python",
   "name": "python3"
  },
  "language_info": {
   "codemirror_mode": {
    "name": "ipython",
    "version": 3
   },
   "file_extension": ".py",
   "mimetype": "text/x-python",
   "name": "python",
   "nbconvert_exporter": "python",
   "pygments_lexer": "ipython3",
   "version": "3.7.6"
  }
 },
 "nbformat": 4,
 "nbformat_minor": 2
}
