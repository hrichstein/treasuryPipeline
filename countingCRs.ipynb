{
 "cells": [
  {
   "cell_type": "code",
   "execution_count": 4,
   "metadata": {},
   "outputs": [],
   "source": [
    "import astropy.io.fits as fits"
   ]
  },
  {
   "cell_type": "code",
   "execution_count": 16,
   "metadata": {},
   "outputs": [],
   "source": [
    "import numpy as np"
   ]
  },
  {
   "cell_type": "code",
   "execution_count": 26,
   "metadata": {},
   "outputs": [],
   "source": [
    "tot = 4096**2"
   ]
  },
  {
   "cell_type": "code",
   "execution_count": 27,
   "metadata": {},
   "outputs": [],
   "source": [
    "workdir = \"/Volumes/Spare Data/Hannah_Data/\""
   ]
  },
  {
   "cell_type": "code",
   "execution_count": 44,
   "metadata": {},
   "outputs": [],
   "source": [
    "def getJdan(targname,filt):\n",
    "\n",
    "    jdanList_file = np.loadtxt(workdir+targname+\"_flcs.txt\",dtype=\"<U50\")\n",
    "\n",
    "    jdan = jdanList_file[:,0]\n",
    "    jdanFilter = jdanList_file[:,1]\n",
    "\n",
    "    jdanUse = []\n",
    "    for jj in range(len(jdan)):\n",
    "        if jdanFilter[jj]==filt:\n",
    "            jdanUse.append(jdan[jj])\n",
    "\n",
    "    jdanUse = np.array(jdanUse)\n",
    "\n",
    "    return jdanUse"
   ]
  },
  {
   "cell_type": "code",
   "execution_count": 31,
   "metadata": {},
   "outputs": [],
   "source": [
    "# hdu1 = fits.open('jdan20faq_sci1_crmask.fits')\n",
    "# hdu2 = fits.open('hor1flcs/adriz_run2/jdan20faq_sci2_crmask.fits')"
   ]
  },
  {
   "cell_type": "code",
   "execution_count": 55,
   "metadata": {},
   "outputs": [],
   "source": [
    "dirCR = 'hor1flcs/adriz_run2/'\n",
    "jdan_arr = getJdan('HOROLOGIUM-I','F606W')"
   ]
  },
  {
   "cell_type": "code",
   "execution_count": 56,
   "metadata": {},
   "outputs": [
    {
     "name": "stdout",
     "output_type": "stream",
     "text": [
      "1028725\n",
      "0.06131678819656372\n",
      "517078\n",
      "0.030820250511169434\n",
      "873315\n",
      "0.052053630352020264\n",
      "592703\n",
      "0.03532785177230835\n"
     ]
    }
   ],
   "source": [
    "for cc, jj in enumerate(jdan_arr):\n",
    "    hdu1 = fits.open(dirCR + jj + '_sci1_crmask.fits')\n",
    "    hdu2 = fits.open(dirCR + jj + '_sci2_crmask.fits')\n",
    "    \n",
    "    flat1 = hdu1[0].data.flatten()\n",
    "    flat2 = hdu2[0].data.flatten()\n",
    "    \n",
    "    sci1 = np.count_nonzero(flat1)\n",
    "    sci2 = np.count_nonzero(flat2)\n",
    "    \n",
    "    print(tot - (sci1 + sci2))\n",
    "    frac = (sci1 + sci2)/tot\n",
    "    \n",
    "    print(1-frac)\n",
    "    \n",
    "    hdu1.close()\n",
    "    hdu2.close()"
   ]
  },
  {
   "cell_type": "code",
   "execution_count": 53,
   "metadata": {},
   "outputs": [],
   "source": [
    "dirCR = 'hor1flcs/adriz_run2f814w/'\n",
    "jdan_arr = getJdan('HOROLOGIUM-I','F814W')"
   ]
  },
  {
   "cell_type": "code",
   "execution_count": 54,
   "metadata": {},
   "outputs": [
    {
     "name": "stdout",
     "output_type": "stream",
     "text": [
      "1051621\n",
      "0.06268149614334106\n",
      "711218\n",
      "0.04239189624786377\n",
      "1019460\n",
      "0.06076455116271973\n",
      "774934\n",
      "0.04618966579437256\n"
     ]
    }
   ],
   "source": [
    "for cc, jj in enumerate(jdan_arr):\n",
    "    hdu1 = fits.open(dirCR + jj + '_sci1_crmask.fits')\n",
    "    hdu2 = fits.open(dirCR + jj + '_sci2_crmask.fits')\n",
    "    \n",
    "    flat1 = hdu1[0].data.flatten()\n",
    "    flat2 = hdu2[0].data.flatten()\n",
    "    \n",
    "    sci1 = np.count_nonzero(flat1)\n",
    "    sci2 = np.count_nonzero(flat2)\n",
    "    \n",
    "    print(tot - (sci1 + sci2))\n",
    "    frac = (sci1 + sci2)/tot\n",
    "    \n",
    "    print(1-frac)\n",
    "    \n",
    "    hdu1.close()\n",
    "    hdu2.close()"
   ]
  }
 ],
 "metadata": {
  "kernelspec": {
   "display_name": "Python 3",
   "language": "python",
   "name": "python3"
  },
  "language_info": {
   "codemirror_mode": {
    "name": "ipython",
    "version": 3
   },
   "file_extension": ".py",
   "mimetype": "text/x-python",
   "name": "python",
   "nbconvert_exporter": "python",
   "pygments_lexer": "ipython3",
   "version": "3.7.6"
  }
 },
 "nbformat": 4,
 "nbformat_minor": 4
}
