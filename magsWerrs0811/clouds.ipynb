{
 "cells": [
  {
   "cell_type": "code",
   "execution_count": 1,
   "metadata": {},
   "outputs": [],
   "source": [
    "import numpy as np\n",
    "from matplotlib import pyplot as plt"
   ]
  },
  {
   "cell_type": "code",
   "execution_count": 138,
   "metadata": {},
   "outputs": [],
   "source": [
    "cloud_file = np.genfromtxt('HORI_clouds.dat',names=True)\n",
    "not_clouds = np.genfromtxt('horI_NClouds_xy.dat',names=True)\n",
    "full_file = np.genfromtxt('comb_HORI',names=True)\n",
    "matt_app = np.genfromtxt('../elena_cats/HOROLOGIUM_CF.2.APER.CAT',names=True)\n",
    "\n",
    "coord_hor = np.genfromtxt('../mags0811/coordDir/HOROLOGIUM-I_F606W_coords.txt',names=True)\n",
    "\n",
    "orig_drc = np.genfromtxt('/Users/hr8jz/Box \\\n",
    "Sync/Research/source_lists/HOROLOGIUM-I.dat',names=True)"
   ]
  },
  {
   "cell_type": "code",
   "execution_count": 132,
   "metadata": {},
   "outputs": [],
   "source": [
    "matt_psf = np.genfromtxt('../elena_cats/HOROLOGIUM_CF.1.PSF.CAT',names=True)"
   ]
  },
  {
   "cell_type": "code",
   "execution_count": 67,
   "metadata": {},
   "outputs": [],
   "source": [
    "cloud_xy = np.genfromtxt('horI_Clouds_xy.dat',names=True)\n",
    "not_cl_xy = np.genfromtxt('horI_NClouds_xy.dat',names=True)"
   ]
  },
  {
   "cell_type": "code",
   "execution_count": 87,
   "metadata": {},
   "outputs": [],
   "source": [
    "f606w_g1 = full_file[ (full_file['c_star_f606w'] > 0.99)]\n",
    "# f814w_g1 = full_file[ (full_file['c_star_f606w'] > 0.99)]\n",
    "f606w_g = f606w_g1[f606w_g1['c_star_f814w']>0.99]\n",
    "\n",
    "\n",
    "# full_file[('c_star_f606w'> 0.99)& ('c_star_f814w'>0.99)]"
   ]
  },
  {
   "cell_type": "code",
   "execution_count": 112,
   "metadata": {},
   "outputs": [],
   "source": [
    "cloud_arr = cloud_file[cloud_file['c_star_f606w'] >0.97]"
   ]
  },
  {
   "cell_type": "code",
   "execution_count": 113,
   "metadata": {},
   "outputs": [],
   "source": [
    "not_cl_arr = not_clouds[not_clouds['c_star_f606w']>0.97]"
   ]
  },
  {
   "cell_type": "code",
   "execution_count": 117,
   "metadata": {},
   "outputs": [
    {
     "data": {
      "image/png": "[encoded data removed]",
      "text/plain": [
       "<Figure size 432x288 with 1 Axes>"
      ]
     },
     "metadata": {
      "needs_background": "light"
     },
     "output_type": "display_data"
    }
   ],
   "source": [
    "fig,ax = plt.subplots()\n",
    "\n",
    "ax.scatter(cloud_file['median_f606w']-cloud_file['median_f814w'],cloud_file['median_f606w'],color='orange',s=1)\n",
    "ax.scatter(cloud_arr['median_f606w']-cloud_arr['median_f814w'],cloud_arr['median_f606w'],color='blue',s=0.8)\n",
    "\n",
    "ax.scatter(not_clouds['median_f606w']-not_clouds['median_f814w'],not_clouds['median_f606w'],color='gray',s=1)\n",
    "ax.scatter(not_cl_arr['median_f606w']-not_cl_arr['median_f814w'],not_cl_arr['median_f606w'],color='red',s=0.8)\n",
    "\n",
    "ax.set_ylim(27,20)\n",
    "plt.show()"
   ]
  },
  {
   "cell_type": "code",
   "execution_count": null,
   "metadata": {},
   "outputs": [],
   "source": []
  },
  {
   "cell_type": "code",
   "execution_count": 79,
   "metadata": {},
   "outputs": [
    {
     "name": "stdout",
     "output_type": "stream",
     "text": [
      "Median,Clouds: 0.956 0.37025264249287837\n",
      "Median,All: 0.973 0.28534666042033585\n",
      "Median,Not Clouds: 0.977 0.10598799945067375\n"
     ]
    }
   ],
   "source": [
    "print('Median,Clouds:',np.median(cloud_file['c_star_f606w']),np.std(cloud_file['c_star_f606w']))\n",
    "print('Median,All:',np.median(full_file['c_star_f606w']),np.std(full_file['c_star_f606w']))\n",
    "print('Median,Not Clouds:',np.median(not_clouds['c_star_f606w']),np.std(not_clouds['c_star_f606w']))"
   ]
  },
  {
   "cell_type": "code",
   "execution_count": 82,
   "metadata": {},
   "outputs": [
    {
     "name": "stdout",
     "output_type": "stream",
     "text": [
      "Median,Clouds 0.927 0.39318018456970244\n",
      "Median,All 0.975 0.3136175248718654\n",
      "Median,Not Clouds 0.981 0.10676170122550921\n"
     ]
    }
   ],
   "source": [
    "print(\"Median,Clouds\",np.median(cloud_file['c_star_f814w']),np.std(cloud_file['c_star_f814w']))\n",
    "print(\"Median,All\",np.median(full_file['c_star_f814w']),np.std(full_file['c_star_f814w']))\n",
    "print(\"Median,Not Clouds\",np.median(not_clouds['c_star_f814w']),np.std(not_clouds['c_star_f814w']))"
   ]
  },
  {
   "cell_type": "code",
   "execution_count": 61,
   "metadata": {},
   "outputs": [
    {
     "name": "stdout",
     "output_type": "stream",
     "text": [
      "1868.9719 6445.6655\n",
      "3063.7202 7246.6484\n",
      "2.81 4090.0088\n",
      "5.536 4088.9443\n"
     ]
    }
   ],
   "source": [
    "print(np.min(matt_app['x']),np.max(matt_app['x']))\n",
    "print(np.min(matt_app['y']),np.max(matt_app['y']))\n",
    "print(np.min(coord_hor['xr']),np.max(coord_hor['xr']))\n",
    "print(np.min(coord_hor['yr']),np.max(coord_hor['yr']))"
   ]
  },
  {
   "cell_type": "code",
   "execution_count": 23,
   "metadata": {},
   "outputs": [
    {
     "data": {
      "text/plain": [
       "(280,)"
      ]
     },
     "execution_count": 23,
     "metadata": {},
     "output_type": "execute_result"
    }
   ],
   "source": [
    "test_ra = np.array(cloud_file['RA_f606w'])\n",
    "test_ra.shape"
   ]
  },
  {
   "cell_type": "code",
   "execution_count": 57,
   "metadata": {},
   "outputs": [],
   "source": [
    "xy_col = np.vstack((coord_hor['xr'],coord_hor['yr']))\n",
    "xy_save = np.savetxt('han_xy.reg',xy_col.T,fmt='%d')"
   ]
  },
  {
   "cell_type": "code",
   "execution_count": 58,
   "metadata": {},
   "outputs": [],
   "source": [
    "xy_col = np.vstack((coord_hor['xo'],coord_hor['yo']))\n",
    "xy_save = np.savetxt('han_xy_off.reg',xy_col.T,fmt='%d')"
   ]
  },
  {
   "cell_type": "code",
   "execution_count": 70,
   "metadata": {},
   "outputs": [],
   "source": [
    "coord_col = np.vstack((cloud_xy['xr_f606w'],cloud_xy['yr_f606w']))"
   ]
  },
  {
   "cell_type": "code",
   "execution_count": 128,
   "metadata": {},
   "outputs": [],
   "source": [
    "ccol = np.vstack((cloud_file['RA_f606w'],cloud_file['DEC_f606w']))"
   ]
  },
  {
   "cell_type": "code",
   "execution_count": 71,
   "metadata": {},
   "outputs": [],
   "source": [
    "coord_colNC = np.vstack((not_cl_xy['xr_f606w'],not_cl_xy['yr_f606w']))"
   ]
  },
  {
   "cell_type": "code",
   "execution_count": 130,
   "metadata": {},
   "outputs": [],
   "source": [
    "nccol = np.vstack((not_clouds['RA_f606w'],not_clouds['DEC_f606w']))"
   ]
  },
  {
   "cell_type": "code",
   "execution_count": 74,
   "metadata": {},
   "outputs": [],
   "source": [
    "np.savetxt('xy_clouds.reg',coord_col.T)\n",
    "np.savetxt('xy_not_cl.reg',coord_colNC.T)"
   ]
  },
  {
   "cell_type": "code",
   "execution_count": 136,
   "metadata": {},
   "outputs": [],
   "source": [
    "all_col = np.vstack((full_file['RA_f606w'],full_file['DEC_f606w']))"
   ]
  },
  {
   "cell_type": "code",
   "execution_count": 139,
   "metadata": {},
   "outputs": [],
   "source": [
    "orig_rd = np.vstack((orig_drc['RA_v'],orig_drc['DEC_v']))\n",
    "orig_xy = np.vstack((orig_drc['x_v'],orig_drc['y_v']))"
   ]
  },
  {
   "cell_type": "code",
   "execution_count": 141,
   "metadata": {},
   "outputs": [],
   "source": [
    "save_xy = np.savetxt(\"orig_drc_xy.dat\",orig_xy.T,fmt='%1.5f')"
   ]
  },
  {
   "cell_type": "code",
   "execution_count": 125,
   "metadata": {},
   "outputs": [
    {
     "data": {
      "text/plain": [
       "(222, 2)"
      ]
     },
     "execution_count": 125,
     "metadata": {},
     "output_type": "execute_result"
    }
   ],
   "source": [
    "coord_col.T.shape"
   ]
  },
  {
   "cell_type": "code",
   "execution_count": 126,
   "metadata": {},
   "outputs": [
    {
     "data": {
      "text/plain": [
       "(506, 2)"
      ]
     },
     "execution_count": 126,
     "metadata": {},
     "output_type": "execute_result"
    }
   ],
   "source": [
    "nccol.T.shape"
   ]
  },
  {
   "cell_type": "code",
   "execution_count": 73,
   "metadata": {},
   "outputs": [
    {
     "name": "stdout",
     "output_type": "stream",
     "text": [
      "[[1066.0879   26.3584]\n",
      " [2028.785    45.0942]\n",
      " [ 284.6994   18.7628]\n",
      " [2942.9978   38.6157]]\n"
     ]
    }
   ],
   "source": [
    "print(coord_col.T[:4])"
   ]
  },
  {
   "cell_type": "code",
   "execution_count": 41,
   "metadata": {},
   "outputs": [],
   "source": [
    "matt_col = np.vstack((matt_app['x'],matt_app['y'])).T"
   ]
  },
  {
   "cell_type": "code",
   "execution_count": 133,
   "metadata": {},
   "outputs": [],
   "source": [
    "matt_Rd = np.vstack((matt_psf['ra'],matt_psf['dec'])).T"
   ]
  },
  {
   "cell_type": "code",
   "execution_count": 42,
   "metadata": {},
   "outputs": [
    {
     "data": {
      "text/plain": [
       "array([[2795.0854, 3101.5608],\n",
       "       [3309.7654, 3134.7869],\n",
       "       [2338.1262, 3088.2239],\n",
       "       [3186.1125, 3113.3948],\n",
       "       [3243.395 , 3110.2422]])"
      ]
     },
     "execution_count": 42,
     "metadata": {},
     "output_type": "execute_result"
    }
   ],
   "source": [
    "matt_col[:5]"
   ]
  },
  {
   "cell_type": "code",
   "execution_count": 48,
   "metadata": {},
   "outputs": [],
   "source": [
    "def writeds9point(pos,file,diam=5.0,color=\"red\",type=\"point\"):\n",
    "    f = open(file,'w')\n",
    "    f.write(\"# Region file format: DS9 version 4.1\\n\")\n",
    "    f.write('global color='+color+' dashlist=8 3 width=1 font=\"helvetica 10 normal roman\" select=1 highlite=1 dash=0 fixed=0 edit=1 move=1 delete=1 include=1 source=1\\n')\n",
    "    f.write(\"fk5\\n\")\n",
    "    for i in range(len(pos)):\n",
    "        f.write('circle('+str(pos[i][0])+','+str(pos[i][1])+','+str(diam)+'\"'+') \\n')\n",
    "    f.close()\n",
    "\n",
    "    return None\n",
    "\n",
    "#\"pos\" variable is expected to be a two column numpy array with the RA coordinates (in degrees) in first\n",
    "# Dec coordinates (in degrees) in the second column. \n",
    "#The \"file\" is the full file name where you want the file to be written"
   ]
  },
  {
   "cell_type": "code",
   "execution_count": 129,
   "metadata": {},
   "outputs": [],
   "source": [
    "writeds9point(ccol.T,\"HORI_coords_rd.reg\",\\\n",
    "              diam=0.8,color=\"red\",type=\"point\")"
   ]
  },
  {
   "cell_type": "code",
   "execution_count": 131,
   "metadata": {},
   "outputs": [],
   "source": [
    "writeds9point(nccol.T,\"HORI_coords_NC_rd.reg\",\\\n",
    "              diam=0.8,color=\"cyan\",type=\"point\")"
   ]
  },
  {
   "cell_type": "code",
   "execution_count": 142,
   "metadata": {},
   "outputs": [],
   "source": [
    "writeds9point(orig_rd.T,\"orig_han_rd.reg\",\\\n",
    "              diam=0.3,color=\"green\",type=\"point\")"
   ]
  },
  {
   "cell_type": "code",
   "execution_count": 137,
   "metadata": {},
   "outputs": [],
   "source": [
    "writeds9point(all_col.T,\"all_han_rd.reg\",\\\n",
    "              diam=0.3,color=\"blue\",type=\"point\")"
   ]
  },
  {
   "cell_type": "code",
   "execution_count": null,
   "metadata": {},
   "outputs": [],
   "source": [
    "writeds9point(all_col.T,\"all_han_rd.reg\",\\\n",
    "              diam=0.3,color=\"blue\",type=\"point\")"
   ]
  },
  {
   "cell_type": "code",
   "execution_count": 140,
   "metadata": {},
   "outputs": [],
   "source": [
    "save_out = np.savetxt('matt_xy.reg',matt_col,fmt='%1.3f')"
   ]
  },
  {
   "cell_type": "code",
   "execution_count": 6,
   "metadata": {},
   "outputs": [
    {
     "data": {
      "image/png": "[encoded data removed]",
      "text/plain": [
       "<Figure size 864x864 with 1 Axes>"
      ]
     },
     "metadata": {
      "needs_background": "light"
     },
     "output_type": "display_data"
    }
   ],
   "source": [
    "fig,ax = plt.subplots(figsize=(12,12))\n",
    "\n",
    "ax.scatter(cloud_file['RA_f606w'],cloud_file['DEC_f606w'])\n",
    "plt.show()"
   ]
  }
 ],
 "metadata": {
  "kernelspec": {
   "display_name": "Python 3",
   "language": "python",
   "name": "python3"
  },
  "language_info": {
   "codemirror_mode": {
    "name": "ipython",
    "version": 3
   },
   "file_extension": ".py",
   "mimetype": "text/x-python",
   "name": "python",
   "nbconvert_exporter": "python",
   "pygments_lexer": "ipython3",
   "version": "3.7.1"
  }
 },
 "nbformat": 4,
 "nbformat_minor": 2
}
